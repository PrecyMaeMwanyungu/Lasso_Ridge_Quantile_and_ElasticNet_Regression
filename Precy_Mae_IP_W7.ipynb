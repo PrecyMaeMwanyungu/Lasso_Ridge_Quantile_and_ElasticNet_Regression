{
  "nbformat": 4,
  "nbformat_minor": 0,
  "metadata": {
    "colab": {
      "name": "Precy_Mae_IP_W7",
      "provenance": [],
      "collapsed_sections": [],
      "toc_visible": true,
      "authorship_tag": "ABX9TyMhwj2NUghDYxACw8e5fbSn",
      "include_colab_link": true
    },
    "kernelspec": {
      "name": "python3",
      "display_name": "Python 3"
    }
  },
  "cells": [
    {
      "cell_type": "markdown",
      "metadata": {
        "id": "view-in-github",
        "colab_type": "text"
      },
      "source": [
        "<a href=\"https://colab.research.google.com/github/PrecyMaeMwanyungu/Lasso_Ridge_Quantile_and_ElasticNet_Regression/blob/master/Precy_Mae_IP_W7.ipynb\" target=\"_parent\"><img src=\"https://colab.research.google.com/assets/colab-badge.svg\" alt=\"Open In Colab\"/></a>"
      ]
    },
    {
      "cell_type": "markdown",
      "metadata": {
        "id": "QLwgHspSlvNl",
        "colab_type": "text"
      },
      "source": [
        "# Independent Project Week 7\n",
        "\n",
        "\n",
        "---\n",
        "\n"
      ]
    },
    {
      "cell_type": "markdown",
      "metadata": {
        "id": "-P6b8HuWlLHL",
        "colab_type": "text"
      },
      "source": [
        "# **1. Defining the Question**"
      ]
    },
    {
      "cell_type": "markdown",
      "metadata": {
        "id": "AxuitbeOoTSd",
        "colab_type": "text"
      },
      "source": [
        "## a) Specifying the Question\n",
        "\n",
        "\n",
        "## b) Defining the Metric for Success\n",
        "\n",
        "\n",
        "## c) Understanding the context\n",
        "\n",
        "\n",
        "## d) Recording the Experimental Design\n",
        "\n",
        "\n",
        "> 1) Business Understanding: \n",
        "\n",
        "> 2) Reading the data: \n",
        "> 3) Checking our data: \n",
        "\n",
        "> 4) Data cleaning:\n",
        "\n",
        "> 5) EDA: visualizing and understanding data.\n",
        "\n",
        "> 6) Implementing the solution: \n",
        "\n",
        "> 7) Challenging the solution:\n",
        "\n",
        "> 8)Conclusion\n",
        "\n",
        "## e) Data relevance\n",
        "\n",
        "\n"
      ]
    },
    {
      "cell_type": "markdown",
      "metadata": {
        "id": "sPHckF7KmF9R",
        "colab_type": "text"
      },
      "source": [
        "# **2. Reading the data**"
      ]
    },
    {
      "cell_type": "code",
      "metadata": {
        "id": "SVBZs10CcjEW",
        "colab_type": "code",
        "colab": {}
      },
      "source": [
        "# Importing relevant libraries\n",
        "import pandas as pd\n",
        "import numpy as np\n",
        "import seaborn as sns\n",
        "import matplotlib\n",
        "import matplotlib.pyplot as plt\n",
        "from sklearn.preprocessing import PolynomialFeatures\n",
        "from sklearn.model_selection import train_test_split\n",
        "from sklearn.linear_model import LinearRegression\n",
        "import warnings\n",
        "warnings.filterwarnings('ignore')"
      ],
      "execution_count": 18,
      "outputs": []
    },
    {
      "cell_type": "code",
      "metadata": {
        "id": "AkVGsDROFV1B",
        "colab_type": "code",
        "colab": {
          "base_uri": "https://localhost:8080/",
          "height": 0
        },
        "outputId": "749e8e32-5c44-4838-de12-b8349a568ed3"
      },
      "source": [
        "# Reading our data, top of dataset\n",
        "df=pd.read_csv(\"/content/Independent Project Week 7 - house_data.csv\")\n",
        "df.head()"
      ],
      "execution_count": 19,
      "outputs": [
        {
          "output_type": "execute_result",
          "data": {
            "text/html": [
              "<div>\n",
              "<style scoped>\n",
              "    .dataframe tbody tr th:only-of-type {\n",
              "        vertical-align: middle;\n",
              "    }\n",
              "\n",
              "    .dataframe tbody tr th {\n",
              "        vertical-align: top;\n",
              "    }\n",
              "\n",
              "    .dataframe thead th {\n",
              "        text-align: right;\n",
              "    }\n",
              "</style>\n",
              "<table border=\"1\" class=\"dataframe\">\n",
              "  <thead>\n",
              "    <tr style=\"text-align: right;\">\n",
              "      <th></th>\n",
              "      <th>id</th>\n",
              "      <th>price</th>\n",
              "      <th>bedrooms</th>\n",
              "      <th>bathrooms</th>\n",
              "      <th>sqft_living</th>\n",
              "      <th>sqft_lot</th>\n",
              "      <th>floors</th>\n",
              "      <th>waterfront</th>\n",
              "      <th>view</th>\n",
              "      <th>condition</th>\n",
              "      <th>grade</th>\n",
              "      <th>sqft_above</th>\n",
              "      <th>sqft_basement</th>\n",
              "      <th>yr_built</th>\n",
              "      <th>yr_renovated</th>\n",
              "      <th>zipcode</th>\n",
              "      <th>lat</th>\n",
              "      <th>long</th>\n",
              "      <th>sqft_living15</th>\n",
              "      <th>sqft_lot15</th>\n",
              "    </tr>\n",
              "  </thead>\n",
              "  <tbody>\n",
              "    <tr>\n",
              "      <th>0</th>\n",
              "      <td>7129300520</td>\n",
              "      <td>221900.0</td>\n",
              "      <td>3</td>\n",
              "      <td>1.00</td>\n",
              "      <td>1180</td>\n",
              "      <td>5650</td>\n",
              "      <td>1.0</td>\n",
              "      <td>0</td>\n",
              "      <td>0</td>\n",
              "      <td>3</td>\n",
              "      <td>7</td>\n",
              "      <td>1180</td>\n",
              "      <td>0</td>\n",
              "      <td>1955</td>\n",
              "      <td>0</td>\n",
              "      <td>98178</td>\n",
              "      <td>47.5112</td>\n",
              "      <td>-122.257</td>\n",
              "      <td>1340</td>\n",
              "      <td>5650</td>\n",
              "    </tr>\n",
              "    <tr>\n",
              "      <th>1</th>\n",
              "      <td>6414100192</td>\n",
              "      <td>538000.0</td>\n",
              "      <td>3</td>\n",
              "      <td>2.25</td>\n",
              "      <td>2570</td>\n",
              "      <td>7242</td>\n",
              "      <td>2.0</td>\n",
              "      <td>0</td>\n",
              "      <td>0</td>\n",
              "      <td>3</td>\n",
              "      <td>7</td>\n",
              "      <td>2170</td>\n",
              "      <td>400</td>\n",
              "      <td>1951</td>\n",
              "      <td>1991</td>\n",
              "      <td>98125</td>\n",
              "      <td>47.7210</td>\n",
              "      <td>-122.319</td>\n",
              "      <td>1690</td>\n",
              "      <td>7639</td>\n",
              "    </tr>\n",
              "    <tr>\n",
              "      <th>2</th>\n",
              "      <td>5631500400</td>\n",
              "      <td>180000.0</td>\n",
              "      <td>2</td>\n",
              "      <td>1.00</td>\n",
              "      <td>770</td>\n",
              "      <td>10000</td>\n",
              "      <td>1.0</td>\n",
              "      <td>0</td>\n",
              "      <td>0</td>\n",
              "      <td>3</td>\n",
              "      <td>6</td>\n",
              "      <td>770</td>\n",
              "      <td>0</td>\n",
              "      <td>1933</td>\n",
              "      <td>0</td>\n",
              "      <td>98028</td>\n",
              "      <td>47.7379</td>\n",
              "      <td>-122.233</td>\n",
              "      <td>2720</td>\n",
              "      <td>8062</td>\n",
              "    </tr>\n",
              "    <tr>\n",
              "      <th>3</th>\n",
              "      <td>2487200875</td>\n",
              "      <td>604000.0</td>\n",
              "      <td>4</td>\n",
              "      <td>3.00</td>\n",
              "      <td>1960</td>\n",
              "      <td>5000</td>\n",
              "      <td>1.0</td>\n",
              "      <td>0</td>\n",
              "      <td>0</td>\n",
              "      <td>5</td>\n",
              "      <td>7</td>\n",
              "      <td>1050</td>\n",
              "      <td>910</td>\n",
              "      <td>1965</td>\n",
              "      <td>0</td>\n",
              "      <td>98136</td>\n",
              "      <td>47.5208</td>\n",
              "      <td>-122.393</td>\n",
              "      <td>1360</td>\n",
              "      <td>5000</td>\n",
              "    </tr>\n",
              "    <tr>\n",
              "      <th>4</th>\n",
              "      <td>1954400510</td>\n",
              "      <td>510000.0</td>\n",
              "      <td>3</td>\n",
              "      <td>2.00</td>\n",
              "      <td>1680</td>\n",
              "      <td>8080</td>\n",
              "      <td>1.0</td>\n",
              "      <td>0</td>\n",
              "      <td>0</td>\n",
              "      <td>3</td>\n",
              "      <td>8</td>\n",
              "      <td>1680</td>\n",
              "      <td>0</td>\n",
              "      <td>1987</td>\n",
              "      <td>0</td>\n",
              "      <td>98074</td>\n",
              "      <td>47.6168</td>\n",
              "      <td>-122.045</td>\n",
              "      <td>1800</td>\n",
              "      <td>7503</td>\n",
              "    </tr>\n",
              "  </tbody>\n",
              "</table>\n",
              "</div>"
            ],
            "text/plain": [
              "           id     price  bedrooms  ...     long  sqft_living15  sqft_lot15\n",
              "0  7129300520  221900.0         3  ... -122.257           1340        5650\n",
              "1  6414100192  538000.0         3  ... -122.319           1690        7639\n",
              "2  5631500400  180000.0         2  ... -122.233           2720        8062\n",
              "3  2487200875  604000.0         4  ... -122.393           1360        5000\n",
              "4  1954400510  510000.0         3  ... -122.045           1800        7503\n",
              "\n",
              "[5 rows x 20 columns]"
            ]
          },
          "metadata": {
            "tags": []
          },
          "execution_count": 19
        }
      ]
    },
    {
      "cell_type": "code",
      "metadata": {
        "id": "9o1KpX-7qWZd",
        "colab_type": "code",
        "colab": {
          "base_uri": "https://localhost:8080/",
          "height": 0
        },
        "outputId": "bd70f0d6-69c1-4850-c4cf-2dca74293a31"
      },
      "source": [
        "# Reading bottom of dataset\n",
        "df.tail()"
      ],
      "execution_count": 20,
      "outputs": [
        {
          "output_type": "execute_result",
          "data": {
            "text/html": [
              "<div>\n",
              "<style scoped>\n",
              "    .dataframe tbody tr th:only-of-type {\n",
              "        vertical-align: middle;\n",
              "    }\n",
              "\n",
              "    .dataframe tbody tr th {\n",
              "        vertical-align: top;\n",
              "    }\n",
              "\n",
              "    .dataframe thead th {\n",
              "        text-align: right;\n",
              "    }\n",
              "</style>\n",
              "<table border=\"1\" class=\"dataframe\">\n",
              "  <thead>\n",
              "    <tr style=\"text-align: right;\">\n",
              "      <th></th>\n",
              "      <th>id</th>\n",
              "      <th>price</th>\n",
              "      <th>bedrooms</th>\n",
              "      <th>bathrooms</th>\n",
              "      <th>sqft_living</th>\n",
              "      <th>sqft_lot</th>\n",
              "      <th>floors</th>\n",
              "      <th>waterfront</th>\n",
              "      <th>view</th>\n",
              "      <th>condition</th>\n",
              "      <th>grade</th>\n",
              "      <th>sqft_above</th>\n",
              "      <th>sqft_basement</th>\n",
              "      <th>yr_built</th>\n",
              "      <th>yr_renovated</th>\n",
              "      <th>zipcode</th>\n",
              "      <th>lat</th>\n",
              "      <th>long</th>\n",
              "      <th>sqft_living15</th>\n",
              "      <th>sqft_lot15</th>\n",
              "    </tr>\n",
              "  </thead>\n",
              "  <tbody>\n",
              "    <tr>\n",
              "      <th>21608</th>\n",
              "      <td>263000018</td>\n",
              "      <td>360000.0</td>\n",
              "      <td>3</td>\n",
              "      <td>2.50</td>\n",
              "      <td>1530</td>\n",
              "      <td>1131</td>\n",
              "      <td>3.0</td>\n",
              "      <td>0</td>\n",
              "      <td>0</td>\n",
              "      <td>3</td>\n",
              "      <td>8</td>\n",
              "      <td>1530</td>\n",
              "      <td>0</td>\n",
              "      <td>2009</td>\n",
              "      <td>0</td>\n",
              "      <td>98103</td>\n",
              "      <td>47.6993</td>\n",
              "      <td>-122.346</td>\n",
              "      <td>1530</td>\n",
              "      <td>1509</td>\n",
              "    </tr>\n",
              "    <tr>\n",
              "      <th>21609</th>\n",
              "      <td>6600060120</td>\n",
              "      <td>400000.0</td>\n",
              "      <td>4</td>\n",
              "      <td>2.50</td>\n",
              "      <td>2310</td>\n",
              "      <td>5813</td>\n",
              "      <td>2.0</td>\n",
              "      <td>0</td>\n",
              "      <td>0</td>\n",
              "      <td>3</td>\n",
              "      <td>8</td>\n",
              "      <td>2310</td>\n",
              "      <td>0</td>\n",
              "      <td>2014</td>\n",
              "      <td>0</td>\n",
              "      <td>98146</td>\n",
              "      <td>47.5107</td>\n",
              "      <td>-122.362</td>\n",
              "      <td>1830</td>\n",
              "      <td>7200</td>\n",
              "    </tr>\n",
              "    <tr>\n",
              "      <th>21610</th>\n",
              "      <td>1523300141</td>\n",
              "      <td>402101.0</td>\n",
              "      <td>2</td>\n",
              "      <td>0.75</td>\n",
              "      <td>1020</td>\n",
              "      <td>1350</td>\n",
              "      <td>2.0</td>\n",
              "      <td>0</td>\n",
              "      <td>0</td>\n",
              "      <td>3</td>\n",
              "      <td>7</td>\n",
              "      <td>1020</td>\n",
              "      <td>0</td>\n",
              "      <td>2009</td>\n",
              "      <td>0</td>\n",
              "      <td>98144</td>\n",
              "      <td>47.5944</td>\n",
              "      <td>-122.299</td>\n",
              "      <td>1020</td>\n",
              "      <td>2007</td>\n",
              "    </tr>\n",
              "    <tr>\n",
              "      <th>21611</th>\n",
              "      <td>291310100</td>\n",
              "      <td>400000.0</td>\n",
              "      <td>3</td>\n",
              "      <td>2.50</td>\n",
              "      <td>1600</td>\n",
              "      <td>2388</td>\n",
              "      <td>2.0</td>\n",
              "      <td>0</td>\n",
              "      <td>0</td>\n",
              "      <td>3</td>\n",
              "      <td>8</td>\n",
              "      <td>1600</td>\n",
              "      <td>0</td>\n",
              "      <td>2004</td>\n",
              "      <td>0</td>\n",
              "      <td>98027</td>\n",
              "      <td>47.5345</td>\n",
              "      <td>-122.069</td>\n",
              "      <td>1410</td>\n",
              "      <td>1287</td>\n",
              "    </tr>\n",
              "    <tr>\n",
              "      <th>21612</th>\n",
              "      <td>1523300157</td>\n",
              "      <td>325000.0</td>\n",
              "      <td>2</td>\n",
              "      <td>0.75</td>\n",
              "      <td>1020</td>\n",
              "      <td>1076</td>\n",
              "      <td>2.0</td>\n",
              "      <td>0</td>\n",
              "      <td>0</td>\n",
              "      <td>3</td>\n",
              "      <td>7</td>\n",
              "      <td>1020</td>\n",
              "      <td>0</td>\n",
              "      <td>2008</td>\n",
              "      <td>0</td>\n",
              "      <td>98144</td>\n",
              "      <td>47.5941</td>\n",
              "      <td>-122.299</td>\n",
              "      <td>1020</td>\n",
              "      <td>1357</td>\n",
              "    </tr>\n",
              "  </tbody>\n",
              "</table>\n",
              "</div>"
            ],
            "text/plain": [
              "               id     price  bedrooms  ...     long  sqft_living15  sqft_lot15\n",
              "21608   263000018  360000.0         3  ... -122.346           1530        1509\n",
              "21609  6600060120  400000.0         4  ... -122.362           1830        7200\n",
              "21610  1523300141  402101.0         2  ... -122.299           1020        2007\n",
              "21611   291310100  400000.0         3  ... -122.069           1410        1287\n",
              "21612  1523300157  325000.0         2  ... -122.299           1020        1357\n",
              "\n",
              "[5 rows x 20 columns]"
            ]
          },
          "metadata": {
            "tags": []
          },
          "execution_count": 20
        }
      ]
    },
    {
      "cell_type": "markdown",
      "metadata": {
        "id": "wCV64GtFmLJ4",
        "colab_type": "text"
      },
      "source": [
        "#  **3. Checking the data**"
      ]
    },
    {
      "cell_type": "code",
      "metadata": {
        "id": "kWjQxFyhczqV",
        "colab_type": "code",
        "colab": {
          "base_uri": "https://localhost:8080/",
          "height": 34
        },
        "outputId": "17854a9d-9c9f-46b3-d83a-ab9b70865413"
      },
      "source": [
        "# Checking the shape of our data\n",
        "df.shape"
      ],
      "execution_count": 21,
      "outputs": [
        {
          "output_type": "execute_result",
          "data": {
            "text/plain": [
              "(21613, 20)"
            ]
          },
          "metadata": {
            "tags": []
          },
          "execution_count": 21
        }
      ]
    },
    {
      "cell_type": "markdown",
      "metadata": {
        "id": "x2n9nUxjp37X",
        "colab_type": "text"
      },
      "source": [
        "Our data has 20 columns and 21613 entries"
      ]
    },
    {
      "cell_type": "code",
      "metadata": {
        "id": "bFjFL6bvqEd_",
        "colab_type": "code",
        "colab": {
          "base_uri": "https://localhost:8080/",
          "height": 102
        },
        "outputId": "a3bbedbf-0df1-4e1c-b7e7-5e17f4ac4c30"
      },
      "source": [
        "# Preview our dataset columns\n",
        "df.columns"
      ],
      "execution_count": 22,
      "outputs": [
        {
          "output_type": "execute_result",
          "data": {
            "text/plain": [
              "Index(['id', 'price', 'bedrooms', 'bathrooms', 'sqft_living', 'sqft_lot',\n",
              "       'floors', 'waterfront', 'view', 'condition', 'grade', 'sqft_above',\n",
              "       'sqft_basement', 'yr_built', 'yr_renovated', 'zipcode', 'lat', 'long',\n",
              "       'sqft_living15', 'sqft_lot15'],\n",
              "      dtype='object')"
            ]
          },
          "metadata": {
            "tags": []
          },
          "execution_count": 22
        }
      ]
    },
    {
      "cell_type": "code",
      "metadata": {
        "id": "CB_81WKxqTk1",
        "colab_type": "code",
        "colab": {
          "base_uri": "https://localhost:8080/",
          "height": 317
        },
        "outputId": "da7f1c39-cbb6-4b17-be4d-7f2d881328a3"
      },
      "source": [
        "# Taking a look at the statistical summaries\n",
        "df.describe()"
      ],
      "execution_count": 23,
      "outputs": [
        {
          "output_type": "execute_result",
          "data": {
            "text/html": [
              "<div>\n",
              "<style scoped>\n",
              "    .dataframe tbody tr th:only-of-type {\n",
              "        vertical-align: middle;\n",
              "    }\n",
              "\n",
              "    .dataframe tbody tr th {\n",
              "        vertical-align: top;\n",
              "    }\n",
              "\n",
              "    .dataframe thead th {\n",
              "        text-align: right;\n",
              "    }\n",
              "</style>\n",
              "<table border=\"1\" class=\"dataframe\">\n",
              "  <thead>\n",
              "    <tr style=\"text-align: right;\">\n",
              "      <th></th>\n",
              "      <th>id</th>\n",
              "      <th>price</th>\n",
              "      <th>bedrooms</th>\n",
              "      <th>bathrooms</th>\n",
              "      <th>sqft_living</th>\n",
              "      <th>sqft_lot</th>\n",
              "      <th>floors</th>\n",
              "      <th>waterfront</th>\n",
              "      <th>view</th>\n",
              "      <th>condition</th>\n",
              "      <th>grade</th>\n",
              "      <th>sqft_above</th>\n",
              "      <th>sqft_basement</th>\n",
              "      <th>yr_built</th>\n",
              "      <th>yr_renovated</th>\n",
              "      <th>zipcode</th>\n",
              "      <th>lat</th>\n",
              "      <th>long</th>\n",
              "      <th>sqft_living15</th>\n",
              "      <th>sqft_lot15</th>\n",
              "    </tr>\n",
              "  </thead>\n",
              "  <tbody>\n",
              "    <tr>\n",
              "      <th>count</th>\n",
              "      <td>2.161300e+04</td>\n",
              "      <td>2.161300e+04</td>\n",
              "      <td>21613.000000</td>\n",
              "      <td>21613.000000</td>\n",
              "      <td>21613.000000</td>\n",
              "      <td>2.161300e+04</td>\n",
              "      <td>21613.000000</td>\n",
              "      <td>21613.000000</td>\n",
              "      <td>21613.000000</td>\n",
              "      <td>21613.000000</td>\n",
              "      <td>21613.000000</td>\n",
              "      <td>21613.000000</td>\n",
              "      <td>21613.000000</td>\n",
              "      <td>21613.000000</td>\n",
              "      <td>21613.000000</td>\n",
              "      <td>21613.000000</td>\n",
              "      <td>21613.000000</td>\n",
              "      <td>21613.000000</td>\n",
              "      <td>21613.000000</td>\n",
              "      <td>21613.000000</td>\n",
              "    </tr>\n",
              "    <tr>\n",
              "      <th>mean</th>\n",
              "      <td>4.580302e+09</td>\n",
              "      <td>5.401822e+05</td>\n",
              "      <td>3.370842</td>\n",
              "      <td>2.114757</td>\n",
              "      <td>2079.899736</td>\n",
              "      <td>1.510697e+04</td>\n",
              "      <td>1.494309</td>\n",
              "      <td>0.007542</td>\n",
              "      <td>0.234303</td>\n",
              "      <td>3.409430</td>\n",
              "      <td>7.656873</td>\n",
              "      <td>1788.390691</td>\n",
              "      <td>291.509045</td>\n",
              "      <td>1971.005136</td>\n",
              "      <td>84.402258</td>\n",
              "      <td>98077.939805</td>\n",
              "      <td>47.560053</td>\n",
              "      <td>-122.213896</td>\n",
              "      <td>1986.552492</td>\n",
              "      <td>12768.455652</td>\n",
              "    </tr>\n",
              "    <tr>\n",
              "      <th>std</th>\n",
              "      <td>2.876566e+09</td>\n",
              "      <td>3.673622e+05</td>\n",
              "      <td>0.930062</td>\n",
              "      <td>0.770163</td>\n",
              "      <td>918.440897</td>\n",
              "      <td>4.142051e+04</td>\n",
              "      <td>0.539989</td>\n",
              "      <td>0.086517</td>\n",
              "      <td>0.766318</td>\n",
              "      <td>0.650743</td>\n",
              "      <td>1.175459</td>\n",
              "      <td>828.090978</td>\n",
              "      <td>442.575043</td>\n",
              "      <td>29.373411</td>\n",
              "      <td>401.679240</td>\n",
              "      <td>53.505026</td>\n",
              "      <td>0.138564</td>\n",
              "      <td>0.140828</td>\n",
              "      <td>685.391304</td>\n",
              "      <td>27304.179631</td>\n",
              "    </tr>\n",
              "    <tr>\n",
              "      <th>min</th>\n",
              "      <td>1.000102e+06</td>\n",
              "      <td>7.500000e+04</td>\n",
              "      <td>0.000000</td>\n",
              "      <td>0.000000</td>\n",
              "      <td>290.000000</td>\n",
              "      <td>5.200000e+02</td>\n",
              "      <td>1.000000</td>\n",
              "      <td>0.000000</td>\n",
              "      <td>0.000000</td>\n",
              "      <td>1.000000</td>\n",
              "      <td>1.000000</td>\n",
              "      <td>290.000000</td>\n",
              "      <td>0.000000</td>\n",
              "      <td>1900.000000</td>\n",
              "      <td>0.000000</td>\n",
              "      <td>98001.000000</td>\n",
              "      <td>47.155900</td>\n",
              "      <td>-122.519000</td>\n",
              "      <td>399.000000</td>\n",
              "      <td>651.000000</td>\n",
              "    </tr>\n",
              "    <tr>\n",
              "      <th>25%</th>\n",
              "      <td>2.123049e+09</td>\n",
              "      <td>3.219500e+05</td>\n",
              "      <td>3.000000</td>\n",
              "      <td>1.750000</td>\n",
              "      <td>1427.000000</td>\n",
              "      <td>5.040000e+03</td>\n",
              "      <td>1.000000</td>\n",
              "      <td>0.000000</td>\n",
              "      <td>0.000000</td>\n",
              "      <td>3.000000</td>\n",
              "      <td>7.000000</td>\n",
              "      <td>1190.000000</td>\n",
              "      <td>0.000000</td>\n",
              "      <td>1951.000000</td>\n",
              "      <td>0.000000</td>\n",
              "      <td>98033.000000</td>\n",
              "      <td>47.471000</td>\n",
              "      <td>-122.328000</td>\n",
              "      <td>1490.000000</td>\n",
              "      <td>5100.000000</td>\n",
              "    </tr>\n",
              "    <tr>\n",
              "      <th>50%</th>\n",
              "      <td>3.904930e+09</td>\n",
              "      <td>4.500000e+05</td>\n",
              "      <td>3.000000</td>\n",
              "      <td>2.250000</td>\n",
              "      <td>1910.000000</td>\n",
              "      <td>7.618000e+03</td>\n",
              "      <td>1.500000</td>\n",
              "      <td>0.000000</td>\n",
              "      <td>0.000000</td>\n",
              "      <td>3.000000</td>\n",
              "      <td>7.000000</td>\n",
              "      <td>1560.000000</td>\n",
              "      <td>0.000000</td>\n",
              "      <td>1975.000000</td>\n",
              "      <td>0.000000</td>\n",
              "      <td>98065.000000</td>\n",
              "      <td>47.571800</td>\n",
              "      <td>-122.230000</td>\n",
              "      <td>1840.000000</td>\n",
              "      <td>7620.000000</td>\n",
              "    </tr>\n",
              "    <tr>\n",
              "      <th>75%</th>\n",
              "      <td>7.308900e+09</td>\n",
              "      <td>6.450000e+05</td>\n",
              "      <td>4.000000</td>\n",
              "      <td>2.500000</td>\n",
              "      <td>2550.000000</td>\n",
              "      <td>1.068800e+04</td>\n",
              "      <td>2.000000</td>\n",
              "      <td>0.000000</td>\n",
              "      <td>0.000000</td>\n",
              "      <td>4.000000</td>\n",
              "      <td>8.000000</td>\n",
              "      <td>2210.000000</td>\n",
              "      <td>560.000000</td>\n",
              "      <td>1997.000000</td>\n",
              "      <td>0.000000</td>\n",
              "      <td>98118.000000</td>\n",
              "      <td>47.678000</td>\n",
              "      <td>-122.125000</td>\n",
              "      <td>2360.000000</td>\n",
              "      <td>10083.000000</td>\n",
              "    </tr>\n",
              "    <tr>\n",
              "      <th>max</th>\n",
              "      <td>9.900000e+09</td>\n",
              "      <td>7.700000e+06</td>\n",
              "      <td>33.000000</td>\n",
              "      <td>8.000000</td>\n",
              "      <td>13540.000000</td>\n",
              "      <td>1.651359e+06</td>\n",
              "      <td>3.500000</td>\n",
              "      <td>1.000000</td>\n",
              "      <td>4.000000</td>\n",
              "      <td>5.000000</td>\n",
              "      <td>13.000000</td>\n",
              "      <td>9410.000000</td>\n",
              "      <td>4820.000000</td>\n",
              "      <td>2015.000000</td>\n",
              "      <td>2015.000000</td>\n",
              "      <td>98199.000000</td>\n",
              "      <td>47.777600</td>\n",
              "      <td>-121.315000</td>\n",
              "      <td>6210.000000</td>\n",
              "      <td>871200.000000</td>\n",
              "    </tr>\n",
              "  </tbody>\n",
              "</table>\n",
              "</div>"
            ],
            "text/plain": [
              "                 id         price  ...  sqft_living15     sqft_lot15\n",
              "count  2.161300e+04  2.161300e+04  ...   21613.000000   21613.000000\n",
              "mean   4.580302e+09  5.401822e+05  ...    1986.552492   12768.455652\n",
              "std    2.876566e+09  3.673622e+05  ...     685.391304   27304.179631\n",
              "min    1.000102e+06  7.500000e+04  ...     399.000000     651.000000\n",
              "25%    2.123049e+09  3.219500e+05  ...    1490.000000    5100.000000\n",
              "50%    3.904930e+09  4.500000e+05  ...    1840.000000    7620.000000\n",
              "75%    7.308900e+09  6.450000e+05  ...    2360.000000   10083.000000\n",
              "max    9.900000e+09  7.700000e+06  ...    6210.000000  871200.000000\n",
              "\n",
              "[8 rows x 20 columns]"
            ]
          },
          "metadata": {
            "tags": []
          },
          "execution_count": 23
        }
      ]
    },
    {
      "cell_type": "markdown",
      "metadata": {
        "id": "aYLEH4pLqv5t",
        "colab_type": "text"
      },
      "source": [
        "There are several minimums of zero which are explainable because there are houses with 0 waterfronts, bedrooms, basements etc."
      ]
    },
    {
      "cell_type": "markdown",
      "metadata": {
        "id": "6Ajot0hamjrc",
        "colab_type": "text"
      },
      "source": [
        "##  * External Source validation"
      ]
    },
    {
      "cell_type": "markdown",
      "metadata": {
        "id": "S8ZEnEfUmtYQ",
        "colab_type": "text"
      },
      "source": [
        "# **4. Tidying the dataset**"
      ]
    },
    {
      "cell_type": "code",
      "metadata": {
        "id": "Zrch0YbYsaaE",
        "colab_type": "code",
        "colab": {
          "base_uri": "https://localhost:8080/",
          "height": 131
        },
        "outputId": "1c341e02-45ba-4d05-de64-f11652afe8ca"
      },
      "source": [
        "# Data cleaning procedures, fixing column names to lower case\n",
        "#\n",
        "df.columns= df.columns.str.strip().str.lower().str.replace(' ','_')\n",
        "df.head(2)"
      ],
      "execution_count": 25,
      "outputs": [
        {
          "output_type": "execute_result",
          "data": {
            "text/html": [
              "<div>\n",
              "<style scoped>\n",
              "    .dataframe tbody tr th:only-of-type {\n",
              "        vertical-align: middle;\n",
              "    }\n",
              "\n",
              "    .dataframe tbody tr th {\n",
              "        vertical-align: top;\n",
              "    }\n",
              "\n",
              "    .dataframe thead th {\n",
              "        text-align: right;\n",
              "    }\n",
              "</style>\n",
              "<table border=\"1\" class=\"dataframe\">\n",
              "  <thead>\n",
              "    <tr style=\"text-align: right;\">\n",
              "      <th></th>\n",
              "      <th>id</th>\n",
              "      <th>price</th>\n",
              "      <th>bedrooms</th>\n",
              "      <th>bathrooms</th>\n",
              "      <th>sqft_living</th>\n",
              "      <th>sqft_lot</th>\n",
              "      <th>floors</th>\n",
              "      <th>waterfront</th>\n",
              "      <th>view</th>\n",
              "      <th>condition</th>\n",
              "      <th>grade</th>\n",
              "      <th>sqft_above</th>\n",
              "      <th>sqft_basement</th>\n",
              "      <th>yr_built</th>\n",
              "      <th>yr_renovated</th>\n",
              "      <th>zipcode</th>\n",
              "      <th>lat</th>\n",
              "      <th>long</th>\n",
              "      <th>sqft_living15</th>\n",
              "      <th>sqft_lot15</th>\n",
              "    </tr>\n",
              "  </thead>\n",
              "  <tbody>\n",
              "    <tr>\n",
              "      <th>0</th>\n",
              "      <td>7129300520</td>\n",
              "      <td>221900.0</td>\n",
              "      <td>3</td>\n",
              "      <td>1.00</td>\n",
              "      <td>1180</td>\n",
              "      <td>5650</td>\n",
              "      <td>1.0</td>\n",
              "      <td>0</td>\n",
              "      <td>0</td>\n",
              "      <td>3</td>\n",
              "      <td>7</td>\n",
              "      <td>1180</td>\n",
              "      <td>0</td>\n",
              "      <td>1955</td>\n",
              "      <td>0</td>\n",
              "      <td>98178</td>\n",
              "      <td>47.5112</td>\n",
              "      <td>-122.257</td>\n",
              "      <td>1340</td>\n",
              "      <td>5650</td>\n",
              "    </tr>\n",
              "    <tr>\n",
              "      <th>1</th>\n",
              "      <td>6414100192</td>\n",
              "      <td>538000.0</td>\n",
              "      <td>3</td>\n",
              "      <td>2.25</td>\n",
              "      <td>2570</td>\n",
              "      <td>7242</td>\n",
              "      <td>2.0</td>\n",
              "      <td>0</td>\n",
              "      <td>0</td>\n",
              "      <td>3</td>\n",
              "      <td>7</td>\n",
              "      <td>2170</td>\n",
              "      <td>400</td>\n",
              "      <td>1951</td>\n",
              "      <td>1991</td>\n",
              "      <td>98125</td>\n",
              "      <td>47.7210</td>\n",
              "      <td>-122.319</td>\n",
              "      <td>1690</td>\n",
              "      <td>7639</td>\n",
              "    </tr>\n",
              "  </tbody>\n",
              "</table>\n",
              "</div>"
            ],
            "text/plain": [
              "           id     price  bedrooms  ...     long  sqft_living15  sqft_lot15\n",
              "0  7129300520  221900.0         3  ... -122.257           1340        5650\n",
              "1  6414100192  538000.0         3  ... -122.319           1690        7639\n",
              "\n",
              "[2 rows x 20 columns]"
            ]
          },
          "metadata": {
            "tags": []
          },
          "execution_count": 25
        }
      ]
    },
    {
      "cell_type": "code",
      "metadata": {
        "id": "2QCr-Z1MYupa",
        "colab_type": "code",
        "colab": {
          "base_uri": "https://localhost:8080/",
          "height": 374
        },
        "outputId": "11a6428c-4153-416b-a64b-d63b9591ba7e"
      },
      "source": [
        "# checking column data types\n",
        "df.dtypes"
      ],
      "execution_count": 26,
      "outputs": [
        {
          "output_type": "execute_result",
          "data": {
            "text/plain": [
              "id                 int64\n",
              "price            float64\n",
              "bedrooms           int64\n",
              "bathrooms        float64\n",
              "sqft_living        int64\n",
              "sqft_lot           int64\n",
              "floors           float64\n",
              "waterfront         int64\n",
              "view               int64\n",
              "condition          int64\n",
              "grade              int64\n",
              "sqft_above         int64\n",
              "sqft_basement      int64\n",
              "yr_built           int64\n",
              "yr_renovated       int64\n",
              "zipcode            int64\n",
              "lat              float64\n",
              "long             float64\n",
              "sqft_living15      int64\n",
              "sqft_lot15         int64\n",
              "dtype: object"
            ]
          },
          "metadata": {
            "tags": []
          },
          "execution_count": 26
        }
      ]
    },
    {
      "cell_type": "markdown",
      "metadata": {
        "id": "N1ACdOnKtXAs",
        "colab_type": "text"
      },
      "source": [
        "All our data types are okay for now, I would just want to convert price to integer.\n"
      ]
    },
    {
      "cell_type": "code",
      "metadata": {
        "id": "2c2phOiAtjNc",
        "colab_type": "code",
        "colab": {
          "base_uri": "https://localhost:8080/",
          "height": 374
        },
        "outputId": "1cd61acb-73ff-4efc-f15c-c109badcf988"
      },
      "source": [
        "#  I would like to convert price from float to integer \n",
        "#df= pd.DataFrame(range(5), columns=['price'])\n",
        "df['price'] = df.price.astype('int')\n",
        "df.dtypes"
      ],
      "execution_count": 27,
      "outputs": [
        {
          "output_type": "execute_result",
          "data": {
            "text/plain": [
              "id                 int64\n",
              "price              int64\n",
              "bedrooms           int64\n",
              "bathrooms        float64\n",
              "sqft_living        int64\n",
              "sqft_lot           int64\n",
              "floors           float64\n",
              "waterfront         int64\n",
              "view               int64\n",
              "condition          int64\n",
              "grade              int64\n",
              "sqft_above         int64\n",
              "sqft_basement      int64\n",
              "yr_built           int64\n",
              "yr_renovated       int64\n",
              "zipcode            int64\n",
              "lat              float64\n",
              "long             float64\n",
              "sqft_living15      int64\n",
              "sqft_lot15         int64\n",
              "dtype: object"
            ]
          },
          "metadata": {
            "tags": []
          },
          "execution_count": 27
        }
      ]
    },
    {
      "cell_type": "code",
      "metadata": {
        "id": "Ng9lCAwovDs5",
        "colab_type": "code",
        "colab": {
          "base_uri": "https://localhost:8080/",
          "height": 374
        },
        "outputId": "f85a8137-7773-44f6-b6f4-b7ecb0833176"
      },
      "source": [
        "# Identifying the Missing Data\n",
        "df.isnull().sum()"
      ],
      "execution_count": 28,
      "outputs": [
        {
          "output_type": "execute_result",
          "data": {
            "text/plain": [
              "id               0\n",
              "price            0\n",
              "bedrooms         0\n",
              "bathrooms        0\n",
              "sqft_living      0\n",
              "sqft_lot         0\n",
              "floors           0\n",
              "waterfront       0\n",
              "view             0\n",
              "condition        0\n",
              "grade            0\n",
              "sqft_above       0\n",
              "sqft_basement    0\n",
              "yr_built         0\n",
              "yr_renovated     0\n",
              "zipcode          0\n",
              "lat              0\n",
              "long             0\n",
              "sqft_living15    0\n",
              "sqft_lot15       0\n",
              "dtype: int64"
            ]
          },
          "metadata": {
            "tags": []
          },
          "execution_count": 28
        }
      ]
    },
    {
      "cell_type": "markdown",
      "metadata": {
        "id": "IxK2eR0jvKui",
        "colab_type": "text"
      },
      "source": [
        "Our dataset has no missing data"
      ]
    },
    {
      "cell_type": "code",
      "metadata": {
        "id": "zBitjx4lvPOX",
        "colab_type": "code",
        "colab": {
          "base_uri": "https://localhost:8080/",
          "height": 1000
        },
        "outputId": "1306e5fd-05c3-4382-829a-073778895c96"
      },
      "source": [
        "# Checking for unique values per column (consistency and uniformity). To check for any anomalies\n",
        "for column in df.columns:\n",
        "  print('\\n')\n",
        "  print(df[column].nunique())\n",
        "  print(df[column].unique())"
      ],
      "execution_count": 29,
      "outputs": [
        {
          "output_type": "stream",
          "text": [
            "\n",
            "\n",
            "21436\n",
            "[7129300520 6414100192 5631500400 ... 1523300141  291310100 1523300157]\n",
            "\n",
            "\n",
            "3625\n",
            "[221900 538000 180000 ... 541800 610685 402101]\n",
            "\n",
            "\n",
            "13\n",
            "[ 3  2  4  5  1  6  7  0  8  9 11 10 33]\n",
            "\n",
            "\n",
            "30\n",
            "[1.   2.25 3.   2.   4.5  1.5  2.5  1.75 2.75 3.25 4.   3.5  0.75 4.75\n",
            " 5.   4.25 3.75 0.   1.25 5.25 6.   0.5  5.5  6.75 5.75 8.   7.5  7.75\n",
            " 6.25 6.5 ]\n",
            "\n",
            "\n",
            "1038\n",
            "[1180 2570  770 ... 3087 3118 1425]\n",
            "\n",
            "\n",
            "9782\n",
            "[ 5650  7242 10000 ...  5813  2388  1076]\n",
            "\n",
            "\n",
            "6\n",
            "[1.  2.  1.5 3.  2.5 3.5]\n",
            "\n",
            "\n",
            "2\n",
            "[0 1]\n",
            "\n",
            "\n",
            "5\n",
            "[0 3 4 2 1]\n",
            "\n",
            "\n",
            "5\n",
            "[3 5 4 1 2]\n",
            "\n",
            "\n",
            "12\n",
            "[ 7  6  8 11  9  5 10 12  4  3 13  1]\n",
            "\n",
            "\n",
            "946\n",
            "[1180 2170  770 1050 1680 3890 1715 1060 1890 1860  860 1430 1370 1810\n",
            " 1980 1600 1200 1250 2330 2270 1070 2450 1710 1750 1400  790 2570 2320\n",
            " 1190 1510 1090 1280  930 2360  890 2620 2600 3595 1570  920 3160  990\n",
            " 2290 2165 1640 1000 2130 2830 2250 2420 3250 1850 1590 1260 2519 1540\n",
            " 1110 1770 2720 2240 3070 2380 2390  880 1040  910 3450 2350 1900 1010\n",
            "  960 2660 1610  765 3520 1290 1960 1160 1210 1270 1440 2190 2920 1460\n",
            " 1170 1240 3140 2030 2310  700 1080 2520 2780 1560 1450 1720 2910 1620\n",
            " 1360 2070 2460 1390 2140 1320 1340 1550  940 1380 3670 2370 1130  980\n",
            " 3540 2500 1760 1030 1780 3400 2680 1670 2590  820 1220 2440 2090 1100\n",
            " 1330 1420 1690 2150 1910 1350 1940  900 1630 2714  850 1870 1950 2760\n",
            " 2020 1120 1480 1230 2280 3760 3530  830 1300 2740 1830  720 2010 3360\n",
            "  800 1730  760 1700 4750 5310  580 2653 2850 2210 2630 3500 1740 1140\n",
            " 2160 2650  970 2040 2180 2220 1660 3370 2690 1930 3150 3030 2050 2490\n",
            " 2560 1275 2580  560 1820 1840 2990 3230 1580 3480 2510 1410 2120 3300\n",
            " 3840 1500 1530 2840  833 2000 6070  950 2200 4040 1920 1490 3470 3130\n",
            " 2610 3260 2260  430 3390  630 4860 3860 2810  870 3180 2770 4030 4410\n",
            " 2400 1520 3040 6050 4740 1970 5403 3350 3580 1790  750 2860 2750 2340\n",
            " 2870 4120 3200 2550 1805 4150 1384 2060 2110 3590 2100 2540 1880 1150\n",
            " 1470 1255 1800 4370 3190 2730 4570 2470  670 2900 4670 4230 2156 1020\n",
            " 2940 2640 2710 3100 3610 4270  840 3090 2300  380 2480 3460 3060 3064\n",
            " 3000 1654 2790 1310 2230 2430 3680 2670 2208  810  740 1422  490 2080\n",
            " 3440 5670 4475  730 3410 3010  600 2960 3570 4300 3990  780 3020 5990\n",
            "  440 4460 4190 2800 2530 1650 3690 2932 3720 4250 3110 2963 4930 2950\n",
            " 5000 2452 2820 1981  640 2495 2403 5320 6720  660 2341 4210 3830 3280\n",
            " 2980 5153 1990 1646  610  710 5450 3504 3210 1782 2930  590 4280  680\n",
            " 3880 3430 3750 4130 5710 3380 3330 4700 3220 3362 3510 3810  620 4490\n",
            " 2410 3050 1008 3488 4070 3420 5770 1605  520 1088 3555 4360 3960 2700\n",
            " 4340 1552 3850 2303 3270 4350 3640 2174 4160 2496 5180 5130 6350 3770\n",
            " 2153 3780 2890 1714 2201 2970  992 3950 3527 2835 3915 1427 4870 3340\n",
            " 3620 4310 3930 4080 5400  570 3310 6110 3320 3490 3859 3710 1798 4600\n",
            " 3560 3940 3600 3800 1105 2305 3290 5050 1556 1553 4000 1657 3001 4220\n",
            "  480 3120 3740  530 3700 5230 5370 3080 4140 4430 3550 1159 1288 2880\n",
            " 4610 1122 3052 1479 7680 3820 1934 5080 2675 2506 5760 2154 4390 3240\n",
            " 1995 1689 2782 2395 4400 6200 3526 4320 2483 4380 4580 4180 2064 3650\n",
            " 1726 2019 4240 1256  500 1355 1747 1678 1833 1414 4115 3597 3170  390\n",
            " 1976 5830 2601 3920 2641 5070 2518 3910 3660 3695 4020 2803 2074 2038\n",
            " 4060 4890 2329 1264 1095  690 4090 1392 2844  902 4560 2811 4720 2168\n",
            " 5610 2683 4900 2095 4290 4050 4260 4440 6220 1175  998 2356 4500 3900\n",
            " 3831 1315 4470 4810 2286 2927 4760 8570 5140 1679 1811 2849 1676 1757\n",
            " 3730 2441 2163 5250 2795 2415 3970 4200 1068 5240 1509 1954 4820 1651\n",
            " 4100 1752 3630 2885 3154 1129 2632 1996 4010  550  410 6430 3790 2031\n",
            " 1652 2434 3316 1899 2331 2497 2216 4170 1341 1961 5584 8860 2507 5220\n",
            " 4850 5844 5530 2145  650 1982 4910 3605 1778 1463 2783 1946 1358 3870\n",
            " 1864 1845 6290 3980 2382 2979 3674 2726 5440 1295 2115 6085 3265 3136\n",
            " 6640 4620 3361 2245 2242 1078 2577 1329  420 4330 1975 7420 1788 2299\n",
            " 1092 4225 1087 1904  470 2966 2192 2253 5550 4133 4285 1216  540 9410\n",
            " 2075 5330 2166 1628 1808 1352 2557 6380 7880 2734 1363 1769 2093 1677\n",
            " 2588 5190 2298 1491 2961 5020 5980 4540  844 6120 2233 4480 4110 4770\n",
            " 2473  995 5160 1494 2007 1048 3002 4780 2155 2014 4980 2665 4830 4790\n",
            " 5010  370 2105 3006 3004 2689 4660 1746 2678 2755 2414  901 4630 2068\n",
            " 2807 2643 2181 4510 4420 1604 1435 3045 2717 2905 4940 5110 2533 6660\n",
            " 3485 2659 5090 2375 1964  866 1595  944 5480  809 5040 1764 1656 1802\n",
            "  460 2692 1544 2044 1212 4083 8020 3905 1502 4590  384 2092 6090 1615\n",
            " 7320 1396 1484 1765 5490 1453 1643 5300 1381 4065  290 1313 5430 1397\n",
            " 2793 2475 1936 3028  798 2575 3276 1584 2393 2029 3222 1072 1785 1984\n",
            "  962 2423 2052 2538 2437 2789 2906 4800 7850 2196 1847 2658 2655 3855\n",
            " 1728  963 2223 1611 2015 2448 1489 1116 3745 1002 3202 1347 1481 2311\n",
            " 2544 2584 2217 3569 3181 1921 2612 2671 2598 3284 3266 1076 2594 2718\n",
            " 1794 2481 3845 1413 1876 3148 2413 1767 5060  806 2547 1834 2024 1165\n",
            " 2134 1741 2798 1852 2099 3216 1094 2891 2432 2283 2701 1658  893 2009\n",
            " 1444 2744 3078 3065 1578 2815 4960 1571 6530 4640 1536 3172 6370 3223\n",
            " 1608 2229 3135 1408 1763 4840 1232 2502 2424 1296 1914  988 3828 3056\n",
            " 2267 1131 2796 1812 1084 2025 1564 1239 2568 1528 2628 2185 2478 2669\n",
            " 1912 2828 2425 1446 3206 2406 1419 2056 1144 2456 4950 3192  828 2529\n",
            " 2732 1987 3906 4073 2578 2738 3691 1061 2846 2542 1889 3336 3236 1451\n",
            " 1983 2313 1824 1322 1766 2301 3274 1108 2864 2716 1572 3281 2656 2398\n",
            " 1867 1613 2587 2623  894 1606 2244 2026 2238 2517 2708 2555 1405 4450\n",
            " 1248 6420 2531 1333 2198 3087 3118 1425]\n",
            "\n",
            "\n",
            "306\n",
            "[   0  400  910 1530  730 1700  300  970  760  720  700  820  780  790\n",
            "  330 1620  360  588 1510  410  990  600  560  550 1000 1600  500 1040\n",
            "  880 1010  240  265  290  800  540  380  710  840  770  480  570 1490\n",
            "  620 1250 1270  120  650  180 1130  450 1640 1460 1020 1030  750  640\n",
            " 1070  490 1310  630 2000  390  430  850  210 1430 1950  440  220 1160\n",
            "  860  580 2060 1820 1180  200 1150 1200  680  530 1450 1170 1080  960\n",
            " 1100  280  870  460 1400 1320  660 1220  900  420 1580 1380  475  690\n",
            "  270  350  935 1370  980 1470  160  950   50  740 1780 1900  340  470\n",
            "  370  140 1760  130  610  520  890 1110  150 1720  810  190 1290  670\n",
            " 1800 1120 1810   60 1050  940  310  930 1390 1830 1300  510 1330 1590\n",
            "  920 1420 1240 1960 1560 2020 1190 2110 1280  250 2390 1230  170  830\n",
            " 1260 1410 1340  590 1500 1140  260  100  320 1480 1060 1284 1670 1350\n",
            " 2570 2590 1090  110 2500   90 1940 1550 2350 2490 1481 1360 1135 1520\n",
            " 1850 1660 2130 2600 1690  243 1210 2620 1024 1798 1610 1440 1570 1650\n",
            "  704 1910 1630 2360 1852 2090 2400 1790 2150  230   70 1680 2100 3000\n",
            " 1870 1710 2030  875 1540 2850 2170  506  906  145 2040  784 1750  374\n",
            "  518 2720 2730 1840 3480 2160 1920 2330 1860 2050 4820 1913   80 2010\n",
            " 3260 2200  415 1730  652 2196 1930  515   40 2080 2580 1548 1740  235\n",
            "  861 1890 2220  792 2070 4130 2250 2240  894 1990  768 2550  435 1008\n",
            " 2300 2610  666 3500  172 1816 2190 1245 1525 1880  862  946 1281  414\n",
            " 2180  276 1248  602  516  176  225 1275  266  283   65 2310   10 1770\n",
            " 2120  295  207  915  556  417  143  508 2810   20  274  248]\n",
            "\n",
            "\n",
            "116\n",
            "[1955 1951 1933 1965 1987 2001 1995 1963 1960 2003 1942 1927 1977 1900\n",
            " 1979 1994 1916 1921 1969 1947 1968 1985 1941 1915 1909 1948 2005 1929\n",
            " 1981 1930 1904 1996 2000 1984 2014 1922 1959 1966 1953 1950 2008 1991\n",
            " 1954 1973 1925 1989 1972 1986 1956 2002 1992 1964 1952 1961 2006 1988\n",
            " 1962 1939 1946 1967 1975 1980 1910 1983 1978 1905 1971 2010 1945 1924\n",
            " 1990 1914 1926 2004 1923 2007 1976 1949 1999 1901 1993 1920 1997 1943\n",
            " 1957 1940 1918 1928 1974 1911 1936 1937 1982 1908 1931 1998 1913 2013\n",
            " 1907 1958 2012 1912 2011 1917 1932 1944 1902 2009 1903 1970 2015 1934\n",
            " 1938 1919 1906 1935]\n",
            "\n",
            "\n",
            "70\n",
            "[   0 1991 2002 2010 1999 1992 2013 1994 1978 2005 2008 2003 1984 1954\n",
            " 2014 2011 1974 1983 1945 1990 1988 1957 1977 1981 1995 2000 1998 1970\n",
            " 1989 2004 1986 2009 2007 1987 1973 2006 1985 2001 1980 1971 1979 1997\n",
            " 1950 1969 1948 2015 1968 2012 1963 1951 1993 1962 1996 1972 1953 1955\n",
            " 1982 1956 1940 1976 1946 1975 1958 1964 1959 1960 1967 1965 1934 1944]\n",
            "\n",
            "\n",
            "70\n",
            "[98178 98125 98028 98136 98074 98053 98003 98198 98146 98038 98007 98115\n",
            " 98107 98126 98019 98103 98002 98133 98040 98092 98030 98119 98112 98052\n",
            " 98027 98117 98058 98001 98056 98166 98023 98070 98148 98105 98042 98008\n",
            " 98059 98122 98144 98004 98005 98034 98075 98116 98010 98118 98199 98032\n",
            " 98045 98102 98077 98108 98168 98177 98065 98029 98006 98109 98022 98033\n",
            " 98155 98024 98011 98031 98106 98072 98188 98014 98055 98039]\n",
            "\n",
            "\n",
            "5034\n",
            "[47.5112 47.721  47.7379 ... 47.3906 47.3339 47.6502]\n",
            "\n",
            "\n",
            "752\n",
            "[-122.257 -122.319 -122.233 -122.393 -122.045 -122.005 -122.327 -122.315\n",
            " -122.337 -122.031 -122.145 -122.292 -122.229 -122.394 -122.375 -121.962\n",
            " -122.343 -122.21  -122.306 -122.341 -122.169 -122.166 -122.172 -122.218\n",
            " -122.36  -122.314 -122.304 -122.11  -122.07  -122.357 -122.368 -122.157\n",
            " -122.31  -122.132 -122.362 -122.282 -122.18  -122.027 -122.347 -122.016\n",
            " -122.364 -122.175 -121.977 -122.371 -122.151 -122.301 -122.451 -122.322\n",
            " -122.189 -122.384 -122.369 -122.281 -122.29  -122.114 -122.122 -122.116\n",
            " -122.149 -122.339 -122.335 -122.344 -122.32  -122.297 -122.192 -122.215\n",
            " -122.16  -122.179 -122.287 -122.036 -122.073 -121.987 -122.125 -122.34\n",
            " -122.025 -122.008 -122.291 -122.365 -122.199 -122.194 -122.387 -122.372\n",
            " -122.391 -122.351 -122.386 -122.249 -122.277 -122.378 -121.958 -121.714\n",
            " -122.08  -122.196 -122.184 -122.133 -122.38  -122.082 -122.109 -122.053\n",
            " -122.349 -122.295 -122.253 -122.248 -122.303 -122.294 -122.226 -122.266\n",
            " -122.098 -122.212 -122.244 -122.39  -122.352 -121.85  -122.152 -122.054\n",
            " -122.072 -121.998 -122.296 -122.299 -122.381 -122.358 -122.128 -122.171\n",
            " -122.174 -122.026 -122.353 -121.943 -122.286 -122.336 -122.359 -122.162\n",
            " -122.3   -122.176 -121.996 -122.118 -122.193 -122.023 -122.224 -122.168\n",
            " -122.231 -122.331 -122.374 -122.182 -122.308 -122.307 -121.999 -122.376\n",
            " -122.2   -122.039 -122.102 -122.188 -122.379 -122.043 -122.153 -122.191\n",
            " -122.219 -122.312 -121.911 -121.994 -122.165 -122.37  -122.158 -122.047\n",
            " -122.284 -122.017 -122.275 -122.268 -122.367 -122.217 -122.373 -122.013\n",
            " -122.214 -122.034 -122.164 -121.899 -122.183 -121.95  -122.324 -122.216\n",
            " -122.395 -122.213 -122.345 -122.278 -122.111 -121.711 -122.27  -122.178\n",
            " -122.147 -121.772 -122.302 -122.438 -122.223 -122.042 -122.323 -122.255\n",
            " -122.4   -122.261 -122.071 -122.206 -122.272 -122.23  -122.144 -122.143\n",
            " -122.181 -122.154 -122.311 -122.274 -122.077 -122.    -122.298 -122.058\n",
            " -121.837 -122.333 -122.057 -122.252 -122.093 -122.012 -122.052 -122.354\n",
            " -122.22  -122.49  -121.875 -122.24  -122.078 -122.173 -121.854 -122.222\n",
            " -122.28  -122.137 -122.159 -121.974 -122.141 -122.029 -121.709 -122.19\n",
            " -121.97  -122.329 -122.195 -122.06  -121.959 -122.095 -122.148 -122.146\n",
            " -122.35  -121.901 -122.241 -122.129 -122.289 -122.305 -122.022 -122.385\n",
            " -121.779 -122.032 -122.402 -122.482 -122.227 -121.982 -122.161 -122.046\n",
            " -122.156 -122.127 -122.33  -122.197 -122.041 -122.103 -122.318 -122.382\n",
            " -122.271 -121.955 -122.211 -122.262 -122.258 -122.121 -122.221 -122.234\n",
            " -122.089 -122.123 -122.167 -121.909 -122.107 -122.064 -122.066 -122.062\n",
            " -122.264 -122.186 -122.087 -121.88  -121.864 -122.205 -122.363 -122.139\n",
            " -122.018 -122.225 -122.285 -122.084 -122.177 -122.056 -122.316 -122.021\n",
            " -122.348 -122.009 -122.131 -122.411 -122.198 -122.256 -122.117 -122.097\n",
            " -122.075 -121.845 -122.083 -122.259 -121.87  -122.015 -122.007 -121.86\n",
            " -122.409 -121.755 -121.972 -122.251 -122.317 -121.776 -122.115 -122.283\n",
            " -122.242 -122.001 -122.024 -122.309 -122.113 -121.771 -122.239 -122.273\n",
            " -122.396 -122.094 -122.267 -122.326 -122.13  -122.269 -121.853 -122.05\n",
            " -122.346 -122.076 -121.826 -122.124 -121.758 -122.202 -121.785 -121.872\n",
            " -122.006 -122.004 -122.321 -121.882 -122.101 -122.03  -122.185 -122.1\n",
            " -121.759 -121.965 -122.201 -122.366 -122.313 -122.405 -122.02  -122.279\n",
            " -122.355 -121.934 -122.15  -122.356 -121.993 -122.044 -122.134 -121.867\n",
            " -122.01  -121.991 -122.011 -121.983 -122.228 -122.033 -122.276 -122.119\n",
            " -121.937 -122.361 -122.325 -122.203 -122.136 -122.237 -122.209 -122.049\n",
            " -122.288 -122.106 -122.037 -122.207 -122.263 -121.915 -122.204 -122.09\n",
            " -122.069 -121.852 -121.787 -121.976 -122.377 -122.059 -122.383 -121.989\n",
            " -122.019 -122.208 -121.878 -122.328 -122.25  -122.338 -122.388 -122.265\n",
            " -122.332 -122.399 -122.397 -122.014 -121.956 -122.092 -122.028 -122.293\n",
            " -122.12  -122.035 -122.14  -122.04  -122.112 -121.906 -122.17  -122.238\n",
            " -122.512 -121.997 -121.89  -122.463 -121.908 -122.086 -122.389 -121.913\n",
            " -122.163 -121.918 -122.108 -122.502 -122.392 -122.236 -121.859 -121.981\n",
            " -122.342 -121.96  -121.978 -122.47  -121.91  -121.966 -122.065 -122.246\n",
            " -122.41  -121.879 -122.079 -122.099 -122.187 -121.98  -122.002 -122.138\n",
            " -121.898 -122.235 -122.126 -121.782 -121.995 -122.401 -121.858 -121.888\n",
            " -121.752 -122.063 -122.26  -121.78  -121.708 -121.721 -122.403 -121.945\n",
            " -122.243 -122.45  -121.927 -122.085 -122.088 -121.973 -122.055 -122.398\n",
            " -121.984 -121.912 -121.903 -121.946 -122.232 -122.412 -122.104 -122.048\n",
            " -122.479 -122.155 -121.833 -121.778 -122.003 -121.99  -121.926 -122.051\n",
            " -121.986 -122.245 -121.861 -122.431 -121.964 -122.142 -122.074 -122.247\n",
            " -122.497 -121.769 -121.827 -121.979 -121.871 -122.091 -121.754 -121.746\n",
            " -121.92  -121.992 -122.406 -121.359 -121.789 -121.707 -122.068 -122.404\n",
            " -122.334 -121.799 -121.774 -121.985 -121.865 -121.724 -122.415 -121.756\n",
            " -121.809 -122.135 -121.691 -122.038 -121.877 -121.94  -121.968 -121.988\n",
            " -121.315 -121.902 -122.514 -122.414 -121.883 -121.866 -121.744 -122.096\n",
            " -122.061 -121.881 -121.745 -122.461 -122.067 -121.868 -121.646 -121.93\n",
            " -122.105 -121.763 -121.718 -121.967 -121.777 -121.957 -121.823 -121.887\n",
            " -122.408 -122.462 -122.43  -122.456 -121.897 -121.932 -121.969 -121.916\n",
            " -122.081 -121.975 -121.735 -121.801 -121.761 -121.723 -121.924 -122.475\n",
            " -121.935 -122.407 -122.448 -122.453 -121.894 -121.936 -121.764 -122.416\n",
            " -121.905 -122.464 -121.768 -122.484 -121.738 -121.9   -121.82  -122.455\n",
            " -121.889 -122.496 -121.829 -122.505 -121.951 -121.847 -122.509 -121.961\n",
            " -121.417 -121.904 -122.503 -121.949 -121.874 -122.432 -121.971 -121.77\n",
            " -122.473 -121.896 -121.952 -122.254 -121.743 -121.933 -121.892 -121.749\n",
            " -121.473 -121.857 -122.465 -121.838 -121.954 -122.422 -121.931 -121.963\n",
            " -122.441 -121.925 -121.352 -122.511 -122.413 -121.876 -121.748 -121.818\n",
            " -121.8   -121.929 -121.698 -121.886 -121.802 -121.81  -121.762 -121.781\n",
            " -121.775 -122.44  -121.773 -121.819 -121.726 -122.459 -122.446 -121.855\n",
            " -121.736 -122.499 -122.46  -121.786 -122.421 -121.947 -122.439 -121.834\n",
            " -121.804 -122.443 -121.716 -121.848 -122.458 -122.515 -121.922 -121.953\n",
            " -121.783 -122.472 -121.944 -121.869 -121.828 -122.452 -121.831 -121.737\n",
            " -121.739 -121.863 -121.73  -121.856 -121.747 -121.893 -121.733 -121.846\n",
            " -121.821 -121.319 -121.765 -121.75  -122.506 -121.948 -121.921 -122.507\n",
            " -122.457 -121.914 -122.469 -121.792 -121.907 -121.841 -121.757 -121.788\n",
            " -121.731 -122.449 -121.316 -121.321 -122.504 -121.884 -121.803 -121.842\n",
            " -121.719 -121.766 -122.433 -122.519 -121.851 -121.402 -122.454 -122.467\n",
            " -121.325 -121.815 -121.676 -121.941 -122.445 -121.76  -121.885 -121.742\n",
            " -121.822 -121.895 -121.784 -121.701 -121.713 -121.727 -121.849 -121.835\n",
            " -122.435 -122.474 -122.444 -121.939 -121.48  -121.364 -121.767 -122.42\n",
            " -121.84  -122.425 -122.447 -121.797 -122.491 -121.917 -121.891 -121.942\n",
            " -121.862 -121.725 -121.873 -121.405 -122.486 -121.795 -121.734 -121.403]\n",
            "\n",
            "\n",
            "777\n",
            "[1340 1690 2720 1360 1800 4760 2238 1650 1780 2390 2210 1330 1370 2140\n",
            " 1890 1610 1060 1280 1400 4110 2240 1220 2200 1030 1760 1860 1520 2630\n",
            " 2580 1390 1460 1570 2020 1590 2160 1730 1290 2620 2470 2410 3625 1580\n",
            " 3050 1228 2680  970 1190 1990 1410 1480 2730 1950 2250 2690 2960 2270\n",
            " 2570 2500 1440 2750 2221 1010 3390 3530 1640 1510 2420 1940 3240 1680\n",
            "  890 1130 3350 2350 1870 1720 1850 1900 1980 2520 1350 1750 1160 2550\n",
            " 2370 1240 1270 2990 1380 1540 2090 2640 1830 1620 1880 2340 1710 2700\n",
            " 3060 2660 1700 1970 1420 2060 2480 1550 1170 2820 1560 2230 2840 1450\n",
            " 1500 3160 1200 3400 2110 2920 1770 1070 1930 3740 2260 1670 2290 1050\n",
            " 2540 2190 2030 1230 2330 1300 1430 2770 1250 1630 2590 2130 1100 3836\n",
            " 1320 2120 3070 1910 2080 1960 2280 1150 3430 2070 2600  830 1260 3120\n",
            " 2010 1660 1600 2380 3890 4180 2653 2670 3920 2300 2310 2320 3150 1740\n",
            " 2400 4550 2510 2440 2880 3860 2150 1310 1820 3080  880 2560 3470 1020\n",
            " 2040 2610 1810 2860 3480 3130 3360 4050 2450 1790 3180 3600 2000 2430\n",
            " 2850 4680 2360 3930 1490 2460 2077 1920 3630 3220 2100 3230 4300 3850\n",
            " 2424 2530 3030 2830 2900 2950 1470  940 2740 4210 3340 3980 2180 3715\n",
            " 2050 1080 2095 1000 3330 2170 1408 1530 2760 3110  950 3000 1307 2220\n",
            " 4190 3440 3250 1110 2870 1210 2910 1120 4230 1708 3090 3270 2970 1180\n",
            " 3100 4100 2930 3510 2688 1840 2490 4090 2810 3260 3680 3420 1654 1365\n",
            "  980 1677 1140 3640 3460 3140 1502 3720 2790 2940  990 2890  860 4750\n",
            " 1525 3950 5790  760 2234  960 3210 2780 2800 2305 2665 3620 2710 4320\n",
            " 2650 3370 1509 1277 1981 2434 4640 2242 3040 3970 3200 4600  840 3290\n",
            " 2214 1162 3010 5600 3820 3540 1975 4800  740 3990 3170 1576 1768 3310\n",
            " 2980 1429 3900 3380  820 1090 4060 3910 3190 3450 3730  620 3020 3760\n",
            " 3320 1132 3300 3770 3960  870 3560 4620 3520 1572 3490 1088 3159 4470\n",
            " 3570 4890 3690 3280 2083 3780  920 1941 1566  850 2496 1040 3410 4240\n",
            " 4670 4350 1714 5380 4330 3830 5000 2144 1494 1357  930 3580 4250 4080\n",
            " 3660 1458 3736 1894 2037 1295 4170 3750 3550 4630 1439 3500 2091  900\n",
            " 3880 3710 1616  720  800 2315 1564 2767 3721 4650 4020  780 1728 2027\n",
            " 1264 1404 1459 2028 3639 1943 3425 2641 2114 1309 2412 2517 1802 2011\n",
            " 1466 1414 3193 1845 1156 3670 1696 5340 4440 1745 1884 4690 4920 2406\n",
            " 4160 3810 4480 2848 1746 2634 2049 5330 1536 2273 3056 4010 4700  910\n",
            " 2125 1665 2683 3790  700 1855  750 1078 4150 4340 2344 1098 1175 1188\n",
            " 3700 3840 4042 2518 3800 2488 3590 2052  810 1528 5030 4740 5070 2967\n",
            " 4280 2724 3610 3940 4940 4770 1811 4830 2876 1805 1216 5170 1304 2474\n",
            " 4590 4130 1492 1364 2168 4140 3543 1303 2005 3650 2583 4310 2451 1448\n",
            " 2955 2142  790 1638 2554 2441 2216 4220 1961 4540  770 4200 3413 1664\n",
            " 2136 3568 4510 1484 1358 2106 1834 2014 4390 4570 2175 6110 4260  710\n",
            " 2112 1934 1518 1302 2622 2619 2382 4290 4560 4000 1336 3112 4070 1468\n",
            " 1571 2605 1138 5110 4850 2165 4410 1678 5610 1984 4660 3870 4370  460\n",
            " 4610 1914 3515 2246 1786 2109 2326 2728 4400 4950 1767 2054 5500 2555\n",
            " 3674 2765 1862 1352 4030  399 2415 2901 1815 2236 2253 2004 1356 2403\n",
            " 1137 1256 4930 4040 2376 4520 4490 2189 2566 2396 1282 2155 1056 2389\n",
            " 2256 3618 1326 1168 4913  806 1369 2405 2875 1425 5220 1442 2333 3335\n",
            " 1321 3045 1546 4730 2697 2822 2076 1757 4780  952 4270 2075 2667 1092\n",
            " 1217 1716 1792 2961 1125 1463 1886  670 4460 2336 3557 5200 2258 1377\n",
            " 2019 2092 4900 2615 1639 1765 1554 1381 4120 5080 1445 2793 2475  998\n",
            " 2384 2575 1398 1584 2439 2197 2029 4362 1443 4420 1691 2495 2437 2547\n",
            " 6210 2009 1847 1346 2578 2879 2255 2815 1608  690 2425 1481 2458 2358\n",
            " 2056 1921 2419 2996 2502 1798 3087 1076 2981 2363 3191 1763 1876 1949\n",
            " 2598 1979 1415 2002 2574 2166 3726 2099 2154 1522 1544 2912 2648 1658\n",
            " 2755 2798 1405 2704 2738 3008 2586 2873 1232 2597 2516 1537 1128 2849\n",
            " 1399 1131 1569 2381 1084 2304 4530 2297 2279 2303 2669 4225 2513 2725\n",
            " 1955 2527 4443 2478 1919 1813 2533  828 2015 3078 4495 2673 2316 2647\n",
            " 3402 3494 2156 3236 2612 2323 2409 2354 1285 2616 1427 1516 2456 2844\n",
            " 1495 2594 2604 1268 2198 3038 2927]\n",
            "\n",
            "\n",
            "8689\n",
            "[5650 7639 8062 ... 5731 1509 2007]\n"
          ],
          "name": "stdout"
        }
      ]
    },
    {
      "cell_type": "code",
      "metadata": {
        "id": "7X6QUmIdIa9h",
        "colab_type": "code",
        "colab": {
          "base_uri": "https://localhost:8080/",
          "height": 357
        },
        "outputId": "89ae6e9c-21a2-48ed-d644-26f00fccdedf"
      },
      "source": [
        "# Checking for number of unique records per column\n",
        "for i in df.columns:\n",
        " print(\" {}    unique values are -----> {}\".format(i,len(df[i].unique())))"
      ],
      "execution_count": null,
      "outputs": [
        {
          "output_type": "stream",
          "text": [
            " id    unique values are -----> 21436\n",
            " price    unique values are -----> 3625\n",
            " bedrooms    unique values are -----> 13\n",
            " bathrooms    unique values are -----> 30\n",
            " sqft_living    unique values are -----> 1038\n",
            " sqft_lot    unique values are -----> 9782\n",
            " floors    unique values are -----> 6\n",
            " waterfront    unique values are -----> 2\n",
            " view    unique values are -----> 5\n",
            " condition    unique values are -----> 5\n",
            " grade    unique values are -----> 12\n",
            " sqft_above    unique values are -----> 946\n",
            " sqft_basement    unique values are -----> 306\n",
            " yr_built    unique values are -----> 116\n",
            " yr_renovated    unique values are -----> 70\n",
            " zipcode    unique values are -----> 70\n",
            " lat    unique values are -----> 5034\n",
            " long    unique values are -----> 752\n",
            " sqft_living15    unique values are -----> 777\n",
            " sqft_lot15    unique values are -----> 8689\n"
          ],
          "name": "stdout"
        }
      ]
    },
    {
      "cell_type": "markdown",
      "metadata": {
        "id": "_4WhQI7lvs4n",
        "colab_type": "text"
      },
      "source": [
        "From the number od unique values in our dataset (especially those with very small values), this could indicate that they are categorical values. like for example waterfront which has 2 unique values."
      ]
    },
    {
      "cell_type": "code",
      "metadata": {
        "id": "mQqoIf6Ad90J",
        "colab_type": "code",
        "colab": {}
      },
      "source": [
        "# Creating categorical features using label encoder\n",
        "cat_features=[\"bedrooms\",\"bathrooms\",\"floors\",\"waterfront\",\"view\",\"condition\",\"grade\",\"zipcode\"]\n",
        "# \n",
        "from sklearn.preprocessing import LabelEncoder\n",
        "lbl_encoders={}\n",
        "for feature in cat_features:\n",
        "  lbl_encoders[feature]=LabelEncoder()\n",
        "  df[feature]= lbl_encoders[feature].fit_transform(df[feature])"
      ],
      "execution_count": 30,
      "outputs": []
    },
    {
      "cell_type": "markdown",
      "metadata": {
        "id": "2WvfemZEMtej",
        "colab_type": "text"
      },
      "source": [
        "## Feature Engineering"
      ]
    },
    {
      "cell_type": "code",
      "metadata": {
        "id": "re25e9yDLRCN",
        "colab_type": "code",
        "colab": {
          "base_uri": "https://localhost:8080/",
          "height": 224
        },
        "outputId": "fef63c68-2c43-4034-939c-2b137f175e35"
      },
      "source": [
        "# To get the age column, I will first get current year minus year build\n",
        "import datetime \n",
        "df['hse_age']=datetime.datetime.now().year-df['yr_built']\n",
        "df.head()"
      ],
      "execution_count": 31,
      "outputs": [
        {
          "output_type": "execute_result",
          "data": {
            "text/html": [
              "<div>\n",
              "<style scoped>\n",
              "    .dataframe tbody tr th:only-of-type {\n",
              "        vertical-align: middle;\n",
              "    }\n",
              "\n",
              "    .dataframe tbody tr th {\n",
              "        vertical-align: top;\n",
              "    }\n",
              "\n",
              "    .dataframe thead th {\n",
              "        text-align: right;\n",
              "    }\n",
              "</style>\n",
              "<table border=\"1\" class=\"dataframe\">\n",
              "  <thead>\n",
              "    <tr style=\"text-align: right;\">\n",
              "      <th></th>\n",
              "      <th>id</th>\n",
              "      <th>price</th>\n",
              "      <th>bedrooms</th>\n",
              "      <th>bathrooms</th>\n",
              "      <th>sqft_living</th>\n",
              "      <th>sqft_lot</th>\n",
              "      <th>floors</th>\n",
              "      <th>waterfront</th>\n",
              "      <th>view</th>\n",
              "      <th>condition</th>\n",
              "      <th>grade</th>\n",
              "      <th>sqft_above</th>\n",
              "      <th>sqft_basement</th>\n",
              "      <th>yr_built</th>\n",
              "      <th>yr_renovated</th>\n",
              "      <th>zipcode</th>\n",
              "      <th>lat</th>\n",
              "      <th>long</th>\n",
              "      <th>sqft_living15</th>\n",
              "      <th>sqft_lot15</th>\n",
              "      <th>hse_age</th>\n",
              "    </tr>\n",
              "  </thead>\n",
              "  <tbody>\n",
              "    <tr>\n",
              "      <th>0</th>\n",
              "      <td>7129300520</td>\n",
              "      <td>221900</td>\n",
              "      <td>3</td>\n",
              "      <td>3</td>\n",
              "      <td>1180</td>\n",
              "      <td>5650</td>\n",
              "      <td>0</td>\n",
              "      <td>0</td>\n",
              "      <td>0</td>\n",
              "      <td>2</td>\n",
              "      <td>5</td>\n",
              "      <td>1180</td>\n",
              "      <td>0</td>\n",
              "      <td>1955</td>\n",
              "      <td>0</td>\n",
              "      <td>66</td>\n",
              "      <td>47.5112</td>\n",
              "      <td>-122.257</td>\n",
              "      <td>1340</td>\n",
              "      <td>5650</td>\n",
              "      <td>65</td>\n",
              "    </tr>\n",
              "    <tr>\n",
              "      <th>1</th>\n",
              "      <td>6414100192</td>\n",
              "      <td>538000</td>\n",
              "      <td>3</td>\n",
              "      <td>8</td>\n",
              "      <td>2570</td>\n",
              "      <td>7242</td>\n",
              "      <td>2</td>\n",
              "      <td>0</td>\n",
              "      <td>0</td>\n",
              "      <td>2</td>\n",
              "      <td>5</td>\n",
              "      <td>2170</td>\n",
              "      <td>400</td>\n",
              "      <td>1951</td>\n",
              "      <td>1991</td>\n",
              "      <td>55</td>\n",
              "      <td>47.7210</td>\n",
              "      <td>-122.319</td>\n",
              "      <td>1690</td>\n",
              "      <td>7639</td>\n",
              "      <td>69</td>\n",
              "    </tr>\n",
              "    <tr>\n",
              "      <th>2</th>\n",
              "      <td>5631500400</td>\n",
              "      <td>180000</td>\n",
              "      <td>2</td>\n",
              "      <td>3</td>\n",
              "      <td>770</td>\n",
              "      <td>10000</td>\n",
              "      <td>0</td>\n",
              "      <td>0</td>\n",
              "      <td>0</td>\n",
              "      <td>2</td>\n",
              "      <td>4</td>\n",
              "      <td>770</td>\n",
              "      <td>0</td>\n",
              "      <td>1933</td>\n",
              "      <td>0</td>\n",
              "      <td>16</td>\n",
              "      <td>47.7379</td>\n",
              "      <td>-122.233</td>\n",
              "      <td>2720</td>\n",
              "      <td>8062</td>\n",
              "      <td>87</td>\n",
              "    </tr>\n",
              "    <tr>\n",
              "      <th>3</th>\n",
              "      <td>2487200875</td>\n",
              "      <td>604000</td>\n",
              "      <td>4</td>\n",
              "      <td>11</td>\n",
              "      <td>1960</td>\n",
              "      <td>5000</td>\n",
              "      <td>0</td>\n",
              "      <td>0</td>\n",
              "      <td>0</td>\n",
              "      <td>4</td>\n",
              "      <td>5</td>\n",
              "      <td>1050</td>\n",
              "      <td>910</td>\n",
              "      <td>1965</td>\n",
              "      <td>0</td>\n",
              "      <td>58</td>\n",
              "      <td>47.5208</td>\n",
              "      <td>-122.393</td>\n",
              "      <td>1360</td>\n",
              "      <td>5000</td>\n",
              "      <td>55</td>\n",
              "    </tr>\n",
              "    <tr>\n",
              "      <th>4</th>\n",
              "      <td>1954400510</td>\n",
              "      <td>510000</td>\n",
              "      <td>3</td>\n",
              "      <td>7</td>\n",
              "      <td>1680</td>\n",
              "      <td>8080</td>\n",
              "      <td>0</td>\n",
              "      <td>0</td>\n",
              "      <td>0</td>\n",
              "      <td>2</td>\n",
              "      <td>6</td>\n",
              "      <td>1680</td>\n",
              "      <td>0</td>\n",
              "      <td>1987</td>\n",
              "      <td>0</td>\n",
              "      <td>37</td>\n",
              "      <td>47.6168</td>\n",
              "      <td>-122.045</td>\n",
              "      <td>1800</td>\n",
              "      <td>7503</td>\n",
              "      <td>33</td>\n",
              "    </tr>\n",
              "  </tbody>\n",
              "</table>\n",
              "</div>"
            ],
            "text/plain": [
              "           id   price  bedrooms  ...  sqft_living15  sqft_lot15  hse_age\n",
              "0  7129300520  221900         3  ...           1340        5650       65\n",
              "1  6414100192  538000         3  ...           1690        7639       69\n",
              "2  5631500400  180000         2  ...           2720        8062       87\n",
              "3  2487200875  604000         4  ...           1360        5000       55\n",
              "4  1954400510  510000         3  ...           1800        7503       33\n",
              "\n",
              "[5 rows x 21 columns]"
            ]
          },
          "metadata": {
            "tags": []
          },
          "execution_count": 31
        }
      ]
    },
    {
      "cell_type": "code",
      "metadata": {
        "id": "acFP8-ANL8lN",
        "colab_type": "code",
        "colab": {
          "base_uri": "https://localhost:8080/",
          "height": 224
        },
        "outputId": "9f774138-f565-4835-dbc9-4b8e3b687af3"
      },
      "source": [
        "# Creating a column containing yrs since renovation\n",
        "import datetime \n",
        "df['yrs_since_renovation']=datetime.datetime.now().year-df['yr_renovated']\n",
        "df.head()"
      ],
      "execution_count": 32,
      "outputs": [
        {
          "output_type": "execute_result",
          "data": {
            "text/html": [
              "<div>\n",
              "<style scoped>\n",
              "    .dataframe tbody tr th:only-of-type {\n",
              "        vertical-align: middle;\n",
              "    }\n",
              "\n",
              "    .dataframe tbody tr th {\n",
              "        vertical-align: top;\n",
              "    }\n",
              "\n",
              "    .dataframe thead th {\n",
              "        text-align: right;\n",
              "    }\n",
              "</style>\n",
              "<table border=\"1\" class=\"dataframe\">\n",
              "  <thead>\n",
              "    <tr style=\"text-align: right;\">\n",
              "      <th></th>\n",
              "      <th>id</th>\n",
              "      <th>price</th>\n",
              "      <th>bedrooms</th>\n",
              "      <th>bathrooms</th>\n",
              "      <th>sqft_living</th>\n",
              "      <th>sqft_lot</th>\n",
              "      <th>floors</th>\n",
              "      <th>waterfront</th>\n",
              "      <th>view</th>\n",
              "      <th>condition</th>\n",
              "      <th>grade</th>\n",
              "      <th>sqft_above</th>\n",
              "      <th>sqft_basement</th>\n",
              "      <th>yr_built</th>\n",
              "      <th>yr_renovated</th>\n",
              "      <th>zipcode</th>\n",
              "      <th>lat</th>\n",
              "      <th>long</th>\n",
              "      <th>sqft_living15</th>\n",
              "      <th>sqft_lot15</th>\n",
              "      <th>hse_age</th>\n",
              "      <th>yrs_since_renovation</th>\n",
              "    </tr>\n",
              "  </thead>\n",
              "  <tbody>\n",
              "    <tr>\n",
              "      <th>0</th>\n",
              "      <td>7129300520</td>\n",
              "      <td>221900</td>\n",
              "      <td>3</td>\n",
              "      <td>3</td>\n",
              "      <td>1180</td>\n",
              "      <td>5650</td>\n",
              "      <td>0</td>\n",
              "      <td>0</td>\n",
              "      <td>0</td>\n",
              "      <td>2</td>\n",
              "      <td>5</td>\n",
              "      <td>1180</td>\n",
              "      <td>0</td>\n",
              "      <td>1955</td>\n",
              "      <td>0</td>\n",
              "      <td>66</td>\n",
              "      <td>47.5112</td>\n",
              "      <td>-122.257</td>\n",
              "      <td>1340</td>\n",
              "      <td>5650</td>\n",
              "      <td>65</td>\n",
              "      <td>2020</td>\n",
              "    </tr>\n",
              "    <tr>\n",
              "      <th>1</th>\n",
              "      <td>6414100192</td>\n",
              "      <td>538000</td>\n",
              "      <td>3</td>\n",
              "      <td>8</td>\n",
              "      <td>2570</td>\n",
              "      <td>7242</td>\n",
              "      <td>2</td>\n",
              "      <td>0</td>\n",
              "      <td>0</td>\n",
              "      <td>2</td>\n",
              "      <td>5</td>\n",
              "      <td>2170</td>\n",
              "      <td>400</td>\n",
              "      <td>1951</td>\n",
              "      <td>1991</td>\n",
              "      <td>55</td>\n",
              "      <td>47.7210</td>\n",
              "      <td>-122.319</td>\n",
              "      <td>1690</td>\n",
              "      <td>7639</td>\n",
              "      <td>69</td>\n",
              "      <td>29</td>\n",
              "    </tr>\n",
              "    <tr>\n",
              "      <th>2</th>\n",
              "      <td>5631500400</td>\n",
              "      <td>180000</td>\n",
              "      <td>2</td>\n",
              "      <td>3</td>\n",
              "      <td>770</td>\n",
              "      <td>10000</td>\n",
              "      <td>0</td>\n",
              "      <td>0</td>\n",
              "      <td>0</td>\n",
              "      <td>2</td>\n",
              "      <td>4</td>\n",
              "      <td>770</td>\n",
              "      <td>0</td>\n",
              "      <td>1933</td>\n",
              "      <td>0</td>\n",
              "      <td>16</td>\n",
              "      <td>47.7379</td>\n",
              "      <td>-122.233</td>\n",
              "      <td>2720</td>\n",
              "      <td>8062</td>\n",
              "      <td>87</td>\n",
              "      <td>2020</td>\n",
              "    </tr>\n",
              "    <tr>\n",
              "      <th>3</th>\n",
              "      <td>2487200875</td>\n",
              "      <td>604000</td>\n",
              "      <td>4</td>\n",
              "      <td>11</td>\n",
              "      <td>1960</td>\n",
              "      <td>5000</td>\n",
              "      <td>0</td>\n",
              "      <td>0</td>\n",
              "      <td>0</td>\n",
              "      <td>4</td>\n",
              "      <td>5</td>\n",
              "      <td>1050</td>\n",
              "      <td>910</td>\n",
              "      <td>1965</td>\n",
              "      <td>0</td>\n",
              "      <td>58</td>\n",
              "      <td>47.5208</td>\n",
              "      <td>-122.393</td>\n",
              "      <td>1360</td>\n",
              "      <td>5000</td>\n",
              "      <td>55</td>\n",
              "      <td>2020</td>\n",
              "    </tr>\n",
              "    <tr>\n",
              "      <th>4</th>\n",
              "      <td>1954400510</td>\n",
              "      <td>510000</td>\n",
              "      <td>3</td>\n",
              "      <td>7</td>\n",
              "      <td>1680</td>\n",
              "      <td>8080</td>\n",
              "      <td>0</td>\n",
              "      <td>0</td>\n",
              "      <td>0</td>\n",
              "      <td>2</td>\n",
              "      <td>6</td>\n",
              "      <td>1680</td>\n",
              "      <td>0</td>\n",
              "      <td>1987</td>\n",
              "      <td>0</td>\n",
              "      <td>37</td>\n",
              "      <td>47.6168</td>\n",
              "      <td>-122.045</td>\n",
              "      <td>1800</td>\n",
              "      <td>7503</td>\n",
              "      <td>33</td>\n",
              "      <td>2020</td>\n",
              "    </tr>\n",
              "  </tbody>\n",
              "</table>\n",
              "</div>"
            ],
            "text/plain": [
              "           id   price  bedrooms  ...  sqft_lot15  hse_age  yrs_since_renovation\n",
              "0  7129300520  221900         3  ...        5650       65                  2020\n",
              "1  6414100192  538000         3  ...        7639       69                    29\n",
              "2  5631500400  180000         2  ...        8062       87                  2020\n",
              "3  2487200875  604000         4  ...        5000       55                  2020\n",
              "4  1954400510  510000         3  ...        7503       33                  2020\n",
              "\n",
              "[5 rows x 22 columns]"
            ]
          },
          "metadata": {
            "tags": []
          },
          "execution_count": 32
        }
      ]
    },
    {
      "cell_type": "markdown",
      "metadata": {
        "id": "tdeh21kLxBoG",
        "colab_type": "text"
      },
      "source": [
        "From the code above, there is a hitch because years since renovation has the current year(2020) for entries which have not had any renovation."
      ]
    },
    {
      "cell_type": "code",
      "metadata": {
        "id": "ULCwOawoXk3x",
        "colab_type": "code",
        "colab": {
          "base_uri": "https://localhost:8080/",
          "height": 224
        },
        "outputId": "7128b6a7-bf79-481f-b021-452f27d8f80d"
      },
      "source": [
        "# Fixing the years since renovation containing 2020 to the actual time since renovation(age)\n",
        "df.loc[df['yrs_since_renovation']== 2020, 'yrs_since_renovation'] =datetime.datetime.now().year -df['yr_built']\n",
        "df.head()"
      ],
      "execution_count": null,
      "outputs": [
        {
          "output_type": "execute_result",
          "data": {
            "text/html": [
              "<div>\n",
              "<style scoped>\n",
              "    .dataframe tbody tr th:only-of-type {\n",
              "        vertical-align: middle;\n",
              "    }\n",
              "\n",
              "    .dataframe tbody tr th {\n",
              "        vertical-align: top;\n",
              "    }\n",
              "\n",
              "    .dataframe thead th {\n",
              "        text-align: right;\n",
              "    }\n",
              "</style>\n",
              "<table border=\"1\" class=\"dataframe\">\n",
              "  <thead>\n",
              "    <tr style=\"text-align: right;\">\n",
              "      <th></th>\n",
              "      <th>id</th>\n",
              "      <th>price</th>\n",
              "      <th>bedrooms</th>\n",
              "      <th>bathrooms</th>\n",
              "      <th>sqft_living</th>\n",
              "      <th>sqft_lot</th>\n",
              "      <th>floors</th>\n",
              "      <th>waterfront</th>\n",
              "      <th>view</th>\n",
              "      <th>condition</th>\n",
              "      <th>grade</th>\n",
              "      <th>sqft_above</th>\n",
              "      <th>sqft_basement</th>\n",
              "      <th>yr_built</th>\n",
              "      <th>yr_renovated</th>\n",
              "      <th>zipcode</th>\n",
              "      <th>lat</th>\n",
              "      <th>long</th>\n",
              "      <th>sqft_living15</th>\n",
              "      <th>sqft_lot15</th>\n",
              "      <th>hse_age</th>\n",
              "      <th>yrs_since_renovation</th>\n",
              "    </tr>\n",
              "  </thead>\n",
              "  <tbody>\n",
              "    <tr>\n",
              "      <th>0</th>\n",
              "      <td>7129300520</td>\n",
              "      <td>221900.0</td>\n",
              "      <td>3</td>\n",
              "      <td>1.00</td>\n",
              "      <td>1180</td>\n",
              "      <td>5650</td>\n",
              "      <td>1.0</td>\n",
              "      <td>0</td>\n",
              "      <td>0</td>\n",
              "      <td>3</td>\n",
              "      <td>7</td>\n",
              "      <td>1180</td>\n",
              "      <td>0</td>\n",
              "      <td>1955</td>\n",
              "      <td>0</td>\n",
              "      <td>98178</td>\n",
              "      <td>47.5112</td>\n",
              "      <td>-122.257</td>\n",
              "      <td>1340</td>\n",
              "      <td>5650</td>\n",
              "      <td>65</td>\n",
              "      <td>65</td>\n",
              "    </tr>\n",
              "    <tr>\n",
              "      <th>1</th>\n",
              "      <td>6414100192</td>\n",
              "      <td>538000.0</td>\n",
              "      <td>3</td>\n",
              "      <td>2.25</td>\n",
              "      <td>2570</td>\n",
              "      <td>7242</td>\n",
              "      <td>2.0</td>\n",
              "      <td>0</td>\n",
              "      <td>0</td>\n",
              "      <td>3</td>\n",
              "      <td>7</td>\n",
              "      <td>2170</td>\n",
              "      <td>400</td>\n",
              "      <td>1951</td>\n",
              "      <td>1991</td>\n",
              "      <td>98125</td>\n",
              "      <td>47.7210</td>\n",
              "      <td>-122.319</td>\n",
              "      <td>1690</td>\n",
              "      <td>7639</td>\n",
              "      <td>69</td>\n",
              "      <td>29</td>\n",
              "    </tr>\n",
              "    <tr>\n",
              "      <th>2</th>\n",
              "      <td>5631500400</td>\n",
              "      <td>180000.0</td>\n",
              "      <td>2</td>\n",
              "      <td>1.00</td>\n",
              "      <td>770</td>\n",
              "      <td>10000</td>\n",
              "      <td>1.0</td>\n",
              "      <td>0</td>\n",
              "      <td>0</td>\n",
              "      <td>3</td>\n",
              "      <td>6</td>\n",
              "      <td>770</td>\n",
              "      <td>0</td>\n",
              "      <td>1933</td>\n",
              "      <td>0</td>\n",
              "      <td>98028</td>\n",
              "      <td>47.7379</td>\n",
              "      <td>-122.233</td>\n",
              "      <td>2720</td>\n",
              "      <td>8062</td>\n",
              "      <td>87</td>\n",
              "      <td>87</td>\n",
              "    </tr>\n",
              "    <tr>\n",
              "      <th>3</th>\n",
              "      <td>2487200875</td>\n",
              "      <td>604000.0</td>\n",
              "      <td>4</td>\n",
              "      <td>3.00</td>\n",
              "      <td>1960</td>\n",
              "      <td>5000</td>\n",
              "      <td>1.0</td>\n",
              "      <td>0</td>\n",
              "      <td>0</td>\n",
              "      <td>5</td>\n",
              "      <td>7</td>\n",
              "      <td>1050</td>\n",
              "      <td>910</td>\n",
              "      <td>1965</td>\n",
              "      <td>0</td>\n",
              "      <td>98136</td>\n",
              "      <td>47.5208</td>\n",
              "      <td>-122.393</td>\n",
              "      <td>1360</td>\n",
              "      <td>5000</td>\n",
              "      <td>55</td>\n",
              "      <td>55</td>\n",
              "    </tr>\n",
              "    <tr>\n",
              "      <th>4</th>\n",
              "      <td>1954400510</td>\n",
              "      <td>510000.0</td>\n",
              "      <td>3</td>\n",
              "      <td>2.00</td>\n",
              "      <td>1680</td>\n",
              "      <td>8080</td>\n",
              "      <td>1.0</td>\n",
              "      <td>0</td>\n",
              "      <td>0</td>\n",
              "      <td>3</td>\n",
              "      <td>8</td>\n",
              "      <td>1680</td>\n",
              "      <td>0</td>\n",
              "      <td>1987</td>\n",
              "      <td>0</td>\n",
              "      <td>98074</td>\n",
              "      <td>47.6168</td>\n",
              "      <td>-122.045</td>\n",
              "      <td>1800</td>\n",
              "      <td>7503</td>\n",
              "      <td>33</td>\n",
              "      <td>33</td>\n",
              "    </tr>\n",
              "  </tbody>\n",
              "</table>\n",
              "</div>"
            ],
            "text/plain": [
              "           id     price  bedrooms  ...  sqft_lot15  hse_age  yrs_since_renovation\n",
              "0  7129300520  221900.0         3  ...        5650       65                    65\n",
              "1  6414100192  538000.0         3  ...        7639       69                    29\n",
              "2  5631500400  180000.0         2  ...        8062       87                    87\n",
              "3  2487200875  604000.0         4  ...        5000       55                    55\n",
              "4  1954400510  510000.0         3  ...        7503       33                    33\n",
              "\n",
              "[5 rows x 22 columns]"
            ]
          },
          "metadata": {
            "tags": []
          },
          "execution_count": 343
        }
      ]
    },
    {
      "cell_type": "code",
      "metadata": {
        "id": "IrG2VDgKTcW6",
        "colab_type": "code",
        "colab": {
          "base_uri": "https://localhost:8080/",
          "height": 162
        },
        "outputId": "b4ec10cd-65a5-4ade-b77f-6de2363571b9"
      },
      "source": [
        "# Dropping the columns we do not need\n",
        "df.drop(['yr_built','yr_renovated','id','long','lat'], axis = 1, inplace= True) \n",
        "df.head(3)"
      ],
      "execution_count": 33,
      "outputs": [
        {
          "output_type": "execute_result",
          "data": {
            "text/html": [
              "<div>\n",
              "<style scoped>\n",
              "    .dataframe tbody tr th:only-of-type {\n",
              "        vertical-align: middle;\n",
              "    }\n",
              "\n",
              "    .dataframe tbody tr th {\n",
              "        vertical-align: top;\n",
              "    }\n",
              "\n",
              "    .dataframe thead th {\n",
              "        text-align: right;\n",
              "    }\n",
              "</style>\n",
              "<table border=\"1\" class=\"dataframe\">\n",
              "  <thead>\n",
              "    <tr style=\"text-align: right;\">\n",
              "      <th></th>\n",
              "      <th>price</th>\n",
              "      <th>bedrooms</th>\n",
              "      <th>bathrooms</th>\n",
              "      <th>sqft_living</th>\n",
              "      <th>sqft_lot</th>\n",
              "      <th>floors</th>\n",
              "      <th>waterfront</th>\n",
              "      <th>view</th>\n",
              "      <th>condition</th>\n",
              "      <th>grade</th>\n",
              "      <th>sqft_above</th>\n",
              "      <th>sqft_basement</th>\n",
              "      <th>zipcode</th>\n",
              "      <th>sqft_living15</th>\n",
              "      <th>sqft_lot15</th>\n",
              "      <th>hse_age</th>\n",
              "      <th>yrs_since_renovation</th>\n",
              "    </tr>\n",
              "  </thead>\n",
              "  <tbody>\n",
              "    <tr>\n",
              "      <th>0</th>\n",
              "      <td>221900</td>\n",
              "      <td>3</td>\n",
              "      <td>3</td>\n",
              "      <td>1180</td>\n",
              "      <td>5650</td>\n",
              "      <td>0</td>\n",
              "      <td>0</td>\n",
              "      <td>0</td>\n",
              "      <td>2</td>\n",
              "      <td>5</td>\n",
              "      <td>1180</td>\n",
              "      <td>0</td>\n",
              "      <td>66</td>\n",
              "      <td>1340</td>\n",
              "      <td>5650</td>\n",
              "      <td>65</td>\n",
              "      <td>2020</td>\n",
              "    </tr>\n",
              "    <tr>\n",
              "      <th>1</th>\n",
              "      <td>538000</td>\n",
              "      <td>3</td>\n",
              "      <td>8</td>\n",
              "      <td>2570</td>\n",
              "      <td>7242</td>\n",
              "      <td>2</td>\n",
              "      <td>0</td>\n",
              "      <td>0</td>\n",
              "      <td>2</td>\n",
              "      <td>5</td>\n",
              "      <td>2170</td>\n",
              "      <td>400</td>\n",
              "      <td>55</td>\n",
              "      <td>1690</td>\n",
              "      <td>7639</td>\n",
              "      <td>69</td>\n",
              "      <td>29</td>\n",
              "    </tr>\n",
              "    <tr>\n",
              "      <th>2</th>\n",
              "      <td>180000</td>\n",
              "      <td>2</td>\n",
              "      <td>3</td>\n",
              "      <td>770</td>\n",
              "      <td>10000</td>\n",
              "      <td>0</td>\n",
              "      <td>0</td>\n",
              "      <td>0</td>\n",
              "      <td>2</td>\n",
              "      <td>4</td>\n",
              "      <td>770</td>\n",
              "      <td>0</td>\n",
              "      <td>16</td>\n",
              "      <td>2720</td>\n",
              "      <td>8062</td>\n",
              "      <td>87</td>\n",
              "      <td>2020</td>\n",
              "    </tr>\n",
              "  </tbody>\n",
              "</table>\n",
              "</div>"
            ],
            "text/plain": [
              "    price  bedrooms  bathrooms  ...  sqft_lot15  hse_age  yrs_since_renovation\n",
              "0  221900         3          3  ...        5650       65                  2020\n",
              "1  538000         3          8  ...        7639       69                    29\n",
              "2  180000         2          3  ...        8062       87                  2020\n",
              "\n",
              "[3 rows x 17 columns]"
            ]
          },
          "metadata": {
            "tags": []
          },
          "execution_count": 33
        }
      ]
    },
    {
      "cell_type": "code",
      "metadata": {
        "id": "DEyTD62izlCR",
        "colab_type": "code",
        "colab": {
          "base_uri": "https://localhost:8080/",
          "height": 1000
        },
        "outputId": "f316d957-285b-4b27-91c9-fec322024049"
      },
      "source": [
        "# Checking for outliers using boxplots\n",
        "fig, ((ax1),(ax2), (ax3),(ax4),(ax5),(ax6),(ax7),(ax8),(ax9),(ax10),(ax11),(ax12),(ax13),(ax14),(ax15),(ax16),(ax17)) = plt.subplots(17 ,figsize=(12, 58))\n",
        "#fig.suptitle('Boxplots')\n",
        "print('\\n')\n",
        "sns.boxplot(df['price'], ax=ax1, color='maroon')\n",
        "sns.boxplot(df['bedrooms'], ax=ax2, color='maroon')\n",
        "sns.boxplot(df['bathrooms'], ax=ax3, color='maroon')\n",
        "sns.boxplot(df['sqft_living'], ax=ax4, color='maroon')\n",
        "sns.boxplot(df['sqft_lot'], ax=ax5, color='maroon')\n",
        "sns.boxplot(df['floors'], ax=ax6, color='maroon')\n",
        "sns.boxplot(df['waterfront'], ax=ax7, color='maroon')\n",
        "sns.boxplot(df['view'], ax=ax8, color='maroon')\n",
        "sns.boxplot(df['condition'], ax=ax9, color='maroon')\n",
        "sns.boxplot(df['grade'], ax=ax10, color='maroon')\n",
        "sns.boxplot(df['sqft_above'], ax=ax11, color='maroon')\n",
        "sns.boxplot(df['sqft_basement'], ax=ax12, color='maroon')\n",
        "sns.boxplot(df['zipcode'], ax=ax13, color='maroon')\n",
        "sns.boxplot(df['sqft_living15'], ax=ax14, color='maroon')\n",
        "sns.boxplot(df['sqft_lot15'], ax=ax15, color='maroon')\n",
        "sns.boxplot(df['hse_age'], ax=ax16, color='maroon')\n",
        "sns.boxplot(df['yrs_since_renovation'], ax=ax17, color='maroon')\n",
        "\n",
        "plt.show()"
      ],
      "execution_count": 45,
      "outputs": [
        {
          "output_type": "stream",
          "text": [
            "\n",
            "\n"
          ],
          "name": "stdout"
        },
        {
          "output_type": "display_data",
          "data": {
            "image/png": "[encoded data removed]",
            "text/plain": [
              "<Figure size 864x4176 with 17 Axes>"
            ]
          },
          "metadata": {
            "tags": [],
            "needs_background": "light"
          }
        }
      ]
    },
    {
      "cell_type": "markdown",
      "metadata": {
        "id": "3ziZlO1p3VjS",
        "colab_type": "text"
      },
      "source": [
        "Our dataset has many outliers, but they all appear relevant as there are very unique houses sometimes so we will not disregard those values and will therefore not remove the outliers."
      ]
    },
    {
      "cell_type": "markdown",
      "metadata": {
        "id": "xLwt7c9FnJUG",
        "colab_type": "text"
      },
      "source": [
        "# **5. Exploratory analysis**"
      ]
    },
    {
      "cell_type": "code",
      "metadata": {
        "id": "WdN7-o2Pg0aY",
        "colab_type": "code",
        "colab": {
          "base_uri": "https://localhost:8080/",
          "height": 224
        },
        "outputId": "9ccd238c-5a3a-4059-ddc1-32e96a3137c0"
      },
      "source": [
        "# Previewing our dataset before EDA\n",
        "df.head()"
      ],
      "execution_count": null,
      "outputs": [
        {
          "output_type": "execute_result",
          "data": {
            "text/html": [
              "<div>\n",
              "<style scoped>\n",
              "    .dataframe tbody tr th:only-of-type {\n",
              "        vertical-align: middle;\n",
              "    }\n",
              "\n",
              "    .dataframe tbody tr th {\n",
              "        vertical-align: top;\n",
              "    }\n",
              "\n",
              "    .dataframe thead th {\n",
              "        text-align: right;\n",
              "    }\n",
              "</style>\n",
              "<table border=\"1\" class=\"dataframe\">\n",
              "  <thead>\n",
              "    <tr style=\"text-align: right;\">\n",
              "      <th></th>\n",
              "      <th>price</th>\n",
              "      <th>bedrooms</th>\n",
              "      <th>bathrooms</th>\n",
              "      <th>sqft_living</th>\n",
              "      <th>sqft_lot</th>\n",
              "      <th>floors</th>\n",
              "      <th>waterfront</th>\n",
              "      <th>view</th>\n",
              "      <th>condition</th>\n",
              "      <th>grade</th>\n",
              "      <th>sqft_above</th>\n",
              "      <th>sqft_basement</th>\n",
              "      <th>zipcode</th>\n",
              "      <th>sqft_living15</th>\n",
              "      <th>sqft_lot15</th>\n",
              "      <th>hse_age</th>\n",
              "      <th>yrs_since_renovation</th>\n",
              "    </tr>\n",
              "  </thead>\n",
              "  <tbody>\n",
              "    <tr>\n",
              "      <th>0</th>\n",
              "      <td>221900</td>\n",
              "      <td>3</td>\n",
              "      <td>3</td>\n",
              "      <td>1180</td>\n",
              "      <td>5650</td>\n",
              "      <td>0</td>\n",
              "      <td>0</td>\n",
              "      <td>0</td>\n",
              "      <td>2</td>\n",
              "      <td>5</td>\n",
              "      <td>1180</td>\n",
              "      <td>0</td>\n",
              "      <td>66</td>\n",
              "      <td>1340</td>\n",
              "      <td>5650</td>\n",
              "      <td>65</td>\n",
              "      <td>2020</td>\n",
              "    </tr>\n",
              "    <tr>\n",
              "      <th>1</th>\n",
              "      <td>538000</td>\n",
              "      <td>3</td>\n",
              "      <td>8</td>\n",
              "      <td>2570</td>\n",
              "      <td>7242</td>\n",
              "      <td>2</td>\n",
              "      <td>0</td>\n",
              "      <td>0</td>\n",
              "      <td>2</td>\n",
              "      <td>5</td>\n",
              "      <td>2170</td>\n",
              "      <td>400</td>\n",
              "      <td>55</td>\n",
              "      <td>1690</td>\n",
              "      <td>7639</td>\n",
              "      <td>69</td>\n",
              "      <td>29</td>\n",
              "    </tr>\n",
              "    <tr>\n",
              "      <th>2</th>\n",
              "      <td>180000</td>\n",
              "      <td>2</td>\n",
              "      <td>3</td>\n",
              "      <td>770</td>\n",
              "      <td>10000</td>\n",
              "      <td>0</td>\n",
              "      <td>0</td>\n",
              "      <td>0</td>\n",
              "      <td>2</td>\n",
              "      <td>4</td>\n",
              "      <td>770</td>\n",
              "      <td>0</td>\n",
              "      <td>16</td>\n",
              "      <td>2720</td>\n",
              "      <td>8062</td>\n",
              "      <td>87</td>\n",
              "      <td>2020</td>\n",
              "    </tr>\n",
              "    <tr>\n",
              "      <th>3</th>\n",
              "      <td>604000</td>\n",
              "      <td>4</td>\n",
              "      <td>11</td>\n",
              "      <td>1960</td>\n",
              "      <td>5000</td>\n",
              "      <td>0</td>\n",
              "      <td>0</td>\n",
              "      <td>0</td>\n",
              "      <td>4</td>\n",
              "      <td>5</td>\n",
              "      <td>1050</td>\n",
              "      <td>910</td>\n",
              "      <td>58</td>\n",
              "      <td>1360</td>\n",
              "      <td>5000</td>\n",
              "      <td>55</td>\n",
              "      <td>2020</td>\n",
              "    </tr>\n",
              "    <tr>\n",
              "      <th>4</th>\n",
              "      <td>510000</td>\n",
              "      <td>3</td>\n",
              "      <td>7</td>\n",
              "      <td>1680</td>\n",
              "      <td>8080</td>\n",
              "      <td>0</td>\n",
              "      <td>0</td>\n",
              "      <td>0</td>\n",
              "      <td>2</td>\n",
              "      <td>6</td>\n",
              "      <td>1680</td>\n",
              "      <td>0</td>\n",
              "      <td>37</td>\n",
              "      <td>1800</td>\n",
              "      <td>7503</td>\n",
              "      <td>33</td>\n",
              "      <td>2020</td>\n",
              "    </tr>\n",
              "  </tbody>\n",
              "</table>\n",
              "</div>"
            ],
            "text/plain": [
              "    price  bedrooms  bathrooms  ...  sqft_lot15  hse_age  yrs_since_renovation\n",
              "0  221900         3          3  ...        5650       65                  2020\n",
              "1  538000         3          8  ...        7639       69                    29\n",
              "2  180000         2          3  ...        8062       87                  2020\n",
              "3  604000         4         11  ...        5000       55                  2020\n",
              "4  510000         3          7  ...        7503       33                  2020\n",
              "\n",
              "[5 rows x 17 columns]"
            ]
          },
          "metadata": {
            "tags": []
          },
          "execution_count": 34
        }
      ]
    },
    {
      "cell_type": "markdown",
      "metadata": {
        "id": "AN75Cigbx6Yz",
        "colab_type": "text"
      },
      "source": [
        "## **Univariate analysis**"
      ]
    },
    {
      "cell_type": "code",
      "metadata": {
        "id": "dOmKgHQV0aGH",
        "colab_type": "code",
        "colab": {
          "base_uri": "https://localhost:8080/",
          "height": 102
        },
        "outputId": "cf4eecc2-7208-4b96-9113-2a4b34eaa37d"
      },
      "source": [
        "df.columns"
      ],
      "execution_count": 35,
      "outputs": [
        {
          "output_type": "execute_result",
          "data": {
            "text/plain": [
              "Index(['price', 'bedrooms', 'bathrooms', 'sqft_living', 'sqft_lot', 'floors',\n",
              "       'waterfront', 'view', 'condition', 'grade', 'sqft_above',\n",
              "       'sqft_basement', 'zipcode', 'sqft_living15', 'sqft_lot15', 'hse_age',\n",
              "       'yrs_since_renovation'],\n",
              "      dtype='object')"
            ]
          },
          "metadata": {
            "tags": []
          },
          "execution_count": 35
        }
      ]
    },
    {
      "cell_type": "markdown",
      "metadata": {
        "id": "P-40tm1fCH3I",
        "colab_type": "text"
      },
      "source": [
        "**Measures of central tendancy**"
      ]
    },
    {
      "cell_type": "code",
      "metadata": {
        "id": "nhJQ1fJg38Cw",
        "colab_type": "code",
        "colab": {}
      },
      "source": [
        "# Creating a list with my column names to make it easier to create a for loop\n",
        "all_columns= list(df1.columns)\n",
        "all_columns.remove('home_team')\n",
        "all_columns.remove('away_team')\n",
        "all_columns.remove('tournament')\n",
        "all_columns.remove('tounament')\n",
        "all_columns.remove('date')\n",
        "all_columns.remove('city')\n",
        "all_columns.remove('home_results')\n",
        "all_columns.remove('country')\n",
        "all_columns.remove('neutral')\n",
        "all_columns.remove('year')\n",
        "all_columns.remove('month')\n",
        "all_columns.remove('rank_date')\n",
        "\n",
        "\n",
        "\n",
        "#\n",
        "columns= list(df1.columns)\n",
        "columns.remove('home_score')\t\n",
        "columns.remove('away_score')\n",
        "columns.remove('home_rank') \n",
        "columns.remove('away_rank') \n"
      ],
      "execution_count": null,
      "outputs": []
    },
    {
      "cell_type": "markdown",
      "metadata": {
        "colab_type": "text",
        "id": "acKutD8kyGhj"
      },
      "source": [
        "## **Bivariate analysis**"
      ]
    },
    {
      "cell_type": "markdown",
      "metadata": {
        "colab_type": "text",
        "id": "LhxeqpENyG-2"
      },
      "source": [
        "## **Multivariate analysis**"
      ]
    },
    {
      "cell_type": "markdown",
      "metadata": {
        "id": "zbhorB7lySHp",
        "colab_type": "text"
      },
      "source": [
        "# **6. Implementing the solution (Regression)**"
      ]
    },
    {
      "cell_type": "markdown",
      "metadata": {
        "id": "ZICqmHP_0-6T",
        "colab_type": "text"
      },
      "source": [
        "### Standardization"
      ]
    },
    {
      "cell_type": "code",
      "metadata": {
        "id": "WdsnMapP1DbZ",
        "colab_type": "code",
        "colab": {}
      },
      "source": [
        "#\n",
        "from sklearn.model_selection import train_test_split\n",
        "from sklearn.preprocessing import StandardScaler\n",
        "StandardScaler= StandardScaler()\n",
        "columns_to_scale=['sqft_living', 'sqft_lot','sqft_above',\n",
        "       'sqft_basement', 'sqft_living15', 'sqft_lot15', 'hse_age',\n",
        "       'yrs_since_renovation']\n",
        "df[columns_to_scale]=StandardScaler.fit_transform(df[columns_to_scale])"
      ],
      "execution_count": 350,
      "outputs": []
    },
    {
      "cell_type": "markdown",
      "metadata": {
        "id": "xOYcaZp_MVLE",
        "colab_type": "text"
      },
      "source": [
        "## Feature Selection"
      ]
    },
    {
      "cell_type": "code",
      "metadata": {
        "id": "teW9j5w7BjUd",
        "colab_type": "code",
        "colab": {
          "base_uri": "https://localhost:8080/",
          "height": 136
        },
        "outputId": "f30dc959-32a6-4a8d-ca6d-c65e0914e028"
      },
      "source": [
        "# To understand which are the most important features\n",
        "X= df.loc[:, df.columns != 'price']\n",
        "\n",
        "Y= df.iloc[:, df.columns == 'price']\n",
        "from sklearn.ensemble import ExtraTreesRegressor\n",
        "# Initialize\n",
        "model=ExtraTreesRegressor()\n",
        "model.fit(X,Y)"
      ],
      "execution_count": 351,
      "outputs": [
        {
          "output_type": "execute_result",
          "data": {
            "text/plain": [
              "ExtraTreesRegressor(bootstrap=False, ccp_alpha=0.0, criterion='mse',\n",
              "                    max_depth=None, max_features='auto', max_leaf_nodes=None,\n",
              "                    max_samples=None, min_impurity_decrease=0.0,\n",
              "                    min_impurity_split=None, min_samples_leaf=1,\n",
              "                    min_samples_split=2, min_weight_fraction_leaf=0.0,\n",
              "                    n_estimators=100, n_jobs=None, oob_score=False,\n",
              "                    random_state=None, verbose=0, warm_start=False)"
            ]
          },
          "metadata": {
            "tags": []
          },
          "execution_count": 351
        }
      ]
    },
    {
      "cell_type": "code",
      "metadata": {
        "id": "9qcjnMPmMnQu",
        "colab_type": "code",
        "colab": {
          "base_uri": "https://localhost:8080/",
          "height": 68
        },
        "outputId": "285f4135-3279-4b23-98b7-8959f010a3b3"
      },
      "source": [
        "print(model.feature_importances_)"
      ],
      "execution_count": 352,
      "outputs": [
        {
          "output_type": "stream",
          "text": [
            "[0.01418872 0.04812604 0.18741982 0.01871211 0.01204722 0.04043547\n",
            " 0.03947918 0.01383014 0.25595912 0.06454916 0.02069448 0.06117631\n",
            " 0.11086755 0.02036859 0.05871818 0.0334279 ]\n"
          ],
          "name": "stdout"
        }
      ]
    },
    {
      "cell_type": "code",
      "metadata": {
        "id": "2Q9CHlMFM4Uf",
        "colab_type": "code",
        "colab": {
          "base_uri": "https://localhost:8080/",
          "height": 347
        },
        "outputId": "6dcadf92-0fd3-45d0-dc5b-2d935745f6ee"
      },
      "source": [
        "# To plot graph of the top ten features that influence house price\n",
        "feat_importances= pd.Series(model.feature_importances_, index= X.columns)\n",
        "# You can take the top five important features\n",
        "feat_importances.nlargest(10).plot(kind='barh')\n",
        "plt.show()"
      ],
      "execution_count": 353,
      "outputs": [
        {
          "output_type": "display_data",
          "data": {
            "image/png": "[encoded data removed]",
            "text/plain": [
              "<Figure size 576x396 with 1 Axes>"
            ]
          },
          "metadata": {
            "tags": []
          }
        }
      ]
    },
    {
      "cell_type": "markdown",
      "metadata": {
        "id": "Z7_IDp2vNNML",
        "colab_type": "text"
      },
      "source": [
        "The most important factor affecting house price is the house grade followed by sqft living and sqft living of the 15 nearest houses"
      ]
    },
    {
      "cell_type": "code",
      "metadata": {
        "id": "NCNw5ChuNr_n",
        "colab_type": "code",
        "colab": {}
      },
      "source": [
        "# We will therefore use only the ten features selected above\n",
        "cols=['yrs_since_renovation','view','waterfront','bathrooms','hse_age','zipcode','sqft_above','sqft_living15','sqft_living','grade','price']\n",
        "dfh=df[cols]"
      ],
      "execution_count": 354,
      "outputs": []
    },
    {
      "cell_type": "code",
      "metadata": {
        "id": "oaNXhhkWQ5dC",
        "colab_type": "code",
        "colab": {
          "base_uri": "https://localhost:8080/",
          "height": 317
        },
        "outputId": "9d5c44f1-51ef-4301-ab09-168ce932e579"
      },
      "source": [
        "# Let as take a look at the statistical measures of our dataframe h\n",
        "dfh.describe()"
      ],
      "execution_count": 355,
      "outputs": [
        {
          "output_type": "execute_result",
          "data": {
            "text/html": [
              "<div>\n",
              "<style scoped>\n",
              "    .dataframe tbody tr th:only-of-type {\n",
              "        vertical-align: middle;\n",
              "    }\n",
              "\n",
              "    .dataframe tbody tr th {\n",
              "        vertical-align: top;\n",
              "    }\n",
              "\n",
              "    .dataframe thead th {\n",
              "        text-align: right;\n",
              "    }\n",
              "</style>\n",
              "<table border=\"1\" class=\"dataframe\">\n",
              "  <thead>\n",
              "    <tr style=\"text-align: right;\">\n",
              "      <th></th>\n",
              "      <th>yrs_since_renovation</th>\n",
              "      <th>view</th>\n",
              "      <th>waterfront</th>\n",
              "      <th>bathrooms</th>\n",
              "      <th>hse_age</th>\n",
              "      <th>zipcode</th>\n",
              "      <th>sqft_above</th>\n",
              "      <th>sqft_living15</th>\n",
              "      <th>sqft_living</th>\n",
              "      <th>grade</th>\n",
              "      <th>price</th>\n",
              "    </tr>\n",
              "  </thead>\n",
              "  <tbody>\n",
              "    <tr>\n",
              "      <th>count</th>\n",
              "      <td>2.161300e+04</td>\n",
              "      <td>21613.000000</td>\n",
              "      <td>21613.000000</td>\n",
              "      <td>21613.000000</td>\n",
              "      <td>2.161300e+04</td>\n",
              "      <td>21613.000000</td>\n",
              "      <td>2.161300e+04</td>\n",
              "      <td>2.161300e+04</td>\n",
              "      <td>2.161300e+04</td>\n",
              "      <td>21613.000000</td>\n",
              "      <td>2.161300e+04</td>\n",
              "    </tr>\n",
              "    <tr>\n",
              "      <th>mean</th>\n",
              "      <td>7.287209e-16</td>\n",
              "      <td>0.234303</td>\n",
              "      <td>0.007542</td>\n",
              "      <td>7.459122</td>\n",
              "      <td>-7.204096e-16</td>\n",
              "      <td>35.146995</td>\n",
              "      <td>3.892022e-16</td>\n",
              "      <td>-1.506632e-16</td>\n",
              "      <td>3.174253e-16</td>\n",
              "      <td>5.656919</td>\n",
              "      <td>5.401822e+05</td>\n",
              "    </tr>\n",
              "    <tr>\n",
              "      <th>std</th>\n",
              "      <td>1.000023e+00</td>\n",
              "      <td>0.766318</td>\n",
              "      <td>0.086517</td>\n",
              "      <td>3.076836</td>\n",
              "      <td>1.000023e+00</td>\n",
              "      <td>19.246708</td>\n",
              "      <td>1.000023e+00</td>\n",
              "      <td>1.000023e+00</td>\n",
              "      <td>1.000023e+00</td>\n",
              "      <td>1.175216</td>\n",
              "      <td>3.673622e+05</td>\n",
              "    </tr>\n",
              "    <tr>\n",
              "      <th>min</th>\n",
              "      <td>-1.444620e+00</td>\n",
              "      <td>0.000000</td>\n",
              "      <td>0.000000</td>\n",
              "      <td>0.000000</td>\n",
              "      <td>-1.497813e+00</td>\n",
              "      <td>0.000000</td>\n",
              "      <td>-1.809494e+00</td>\n",
              "      <td>-2.316325e+00</td>\n",
              "      <td>-1.948891e+00</td>\n",
              "      <td>0.000000</td>\n",
              "      <td>7.500000e+04</td>\n",
              "    </tr>\n",
              "    <tr>\n",
              "      <th>25%</th>\n",
              "      <td>-8.891833e-01</td>\n",
              "      <td>0.000000</td>\n",
              "      <td>0.000000</td>\n",
              "      <td>6.000000</td>\n",
              "      <td>-8.849999e-01</td>\n",
              "      <td>21.000000</td>\n",
              "      <td>-7.226314e-01</td>\n",
              "      <td>-7.244971e-01</td>\n",
              "      <td>-7.108948e-01</td>\n",
              "      <td>5.000000</td>\n",
              "      <td>3.219500e+05</td>\n",
              "    </tr>\n",
              "    <tr>\n",
              "      <th>50%</th>\n",
              "      <td>-1.254585e-01</td>\n",
              "      <td>0.000000</td>\n",
              "      <td>0.000000</td>\n",
              "      <td>8.000000</td>\n",
              "      <td>-1.360059e-01</td>\n",
              "      <td>34.000000</td>\n",
              "      <td>-2.758102e-01</td>\n",
              "      <td>-2.138280e-01</td>\n",
              "      <td>-1.849914e-01</td>\n",
              "      <td>5.000000</td>\n",
              "      <td>4.500000e+05</td>\n",
              "    </tr>\n",
              "    <tr>\n",
              "      <th>75%</th>\n",
              "      <td>6.729810e-01</td>\n",
              "      <td>0.000000</td>\n",
              "      <td>0.000000</td>\n",
              "      <td>9.000000</td>\n",
              "      <td>6.810785e-01</td>\n",
              "      <td>52.000000</td>\n",
              "      <td>5.091458e-01</td>\n",
              "      <td>5.448802e-01</td>\n",
              "      <td>5.118578e-01</td>\n",
              "      <td>6.000000</td>\n",
              "      <td>6.450000e+05</td>\n",
              "    </tr>\n",
              "    <tr>\n",
              "      <th>max</th>\n",
              "      <td>2.547578e+00</td>\n",
              "      <td>4.000000</td>\n",
              "      <td>1.000000</td>\n",
              "      <td>29.000000</td>\n",
              "      <td>2.417383e+00</td>\n",
              "      <td>69.000000</td>\n",
              "      <td>9.204044e+00</td>\n",
              "      <td>6.162239e+00</td>\n",
              "      <td>1.247807e+01</td>\n",
              "      <td>11.000000</td>\n",
              "      <td>7.700000e+06</td>\n",
              "    </tr>\n",
              "  </tbody>\n",
              "</table>\n",
              "</div>"
            ],
            "text/plain": [
              "       yrs_since_renovation          view  ...         grade         price\n",
              "count          2.161300e+04  21613.000000  ...  21613.000000  2.161300e+04\n",
              "mean           7.287209e-16      0.234303  ...      5.656919  5.401822e+05\n",
              "std            1.000023e+00      0.766318  ...      1.175216  3.673622e+05\n",
              "min           -1.444620e+00      0.000000  ...      0.000000  7.500000e+04\n",
              "25%           -8.891833e-01      0.000000  ...      5.000000  3.219500e+05\n",
              "50%           -1.254585e-01      0.000000  ...      5.000000  4.500000e+05\n",
              "75%            6.729810e-01      0.000000  ...      6.000000  6.450000e+05\n",
              "max            2.547578e+00      4.000000  ...     11.000000  7.700000e+06\n",
              "\n",
              "[8 rows x 11 columns]"
            ]
          },
          "metadata": {
            "tags": []
          },
          "execution_count": 355
        }
      ]
    },
    {
      "cell_type": "markdown",
      "metadata": {
        "id": "msurVZd1zCiD",
        "colab_type": "text"
      },
      "source": [
        "### Multicollinearity"
      ]
    },
    {
      "cell_type": "code",
      "metadata": {
        "id": "KLEDTOmqP540",
        "colab_type": "code",
        "colab": {
          "base_uri": "https://localhost:8080/",
          "height": 1000
        },
        "outputId": "4cbf01a4-b0d8-4b72-9e7d-62e880961f6c"
      },
      "source": [
        "corrmat= dfh.corr()\n",
        "top_corr_features= corrmat.index\n",
        "#\n",
        "plt.figure(figsize=(20,20))\n",
        "# Plot heatmap\n",
        "g=sns.heatmap(dfh[top_corr_features].corr(),annot=True,cmap='RdYlGn')"
      ],
      "execution_count": 356,
      "outputs": [
        {
          "output_type": "display_data",
          "data": {
            "image/png": "[encoded data removed]",
            "text/plain": [
              "<Figure size 1440x1440 with 2 Axes>"
            ]
          },
          "metadata": {
            "tags": []
          }
        }
      ]
    },
    {
      "cell_type": "code",
      "metadata": {
        "id": "AbWoDn0U0gb_",
        "colab_type": "code",
        "colab": {
          "base_uri": "https://localhost:8080/",
          "height": 410
        },
        "outputId": "1208933a-bbc2-451e-dfde-11d8d9af49dd"
      },
      "source": [
        "# Check the VIF score of each variable diagonally\n",
        "pd.DataFrame(np.linalg.inv(corrmat.values), index = corrmat.index, columns=corrmat.columns)\n"
      ],
      "execution_count": 357,
      "outputs": [
        {
          "output_type": "execute_result",
          "data": {
            "text/html": [
              "<div>\n",
              "<style scoped>\n",
              "    .dataframe tbody tr th:only-of-type {\n",
              "        vertical-align: middle;\n",
              "    }\n",
              "\n",
              "    .dataframe tbody tr th {\n",
              "        vertical-align: top;\n",
              "    }\n",
              "\n",
              "    .dataframe thead th {\n",
              "        text-align: right;\n",
              "    }\n",
              "</style>\n",
              "<table border=\"1\" class=\"dataframe\">\n",
              "  <thead>\n",
              "    <tr style=\"text-align: right;\">\n",
              "      <th></th>\n",
              "      <th>yrs_since_renovation</th>\n",
              "      <th>view</th>\n",
              "      <th>waterfront</th>\n",
              "      <th>bathrooms</th>\n",
              "      <th>hse_age</th>\n",
              "      <th>zipcode</th>\n",
              "      <th>sqft_above</th>\n",
              "      <th>sqft_living15</th>\n",
              "      <th>sqft_living</th>\n",
              "      <th>grade</th>\n",
              "      <th>price</th>\n",
              "    </tr>\n",
              "  </thead>\n",
              "  <tbody>\n",
              "    <tr>\n",
              "      <th>yrs_since_renovation</th>\n",
              "      <td>6.154764</td>\n",
              "      <td>0.059289</td>\n",
              "      <td>0.077366</td>\n",
              "      <td>0.685661</td>\n",
              "      <td>-5.214203</td>\n",
              "      <td>-0.049194</td>\n",
              "      <td>0.234814</td>\n",
              "      <td>-0.255879</td>\n",
              "      <td>-0.311694</td>\n",
              "      <td>0.245083</td>\n",
              "      <td>0.025741</td>\n",
              "    </tr>\n",
              "    <tr>\n",
              "      <th>view</th>\n",
              "      <td>0.059289</td>\n",
              "      <td>1.428331</td>\n",
              "      <td>-0.460951</td>\n",
              "      <td>0.004559</td>\n",
              "      <td>-0.131081</td>\n",
              "      <td>-0.116980</td>\n",
              "      <td>0.482226</td>\n",
              "      <td>-0.276036</td>\n",
              "      <td>-0.365306</td>\n",
              "      <td>-0.082571</td>\n",
              "      <td>-0.272780</td>\n",
              "    </tr>\n",
              "    <tr>\n",
              "      <th>waterfront</th>\n",
              "      <td>0.077366</td>\n",
              "      <td>-0.460951</td>\n",
              "      <td>1.253474</td>\n",
              "      <td>0.052314</td>\n",
              "      <td>0.045380</td>\n",
              "      <td>0.009400</td>\n",
              "      <td>-0.103022</td>\n",
              "      <td>0.074495</td>\n",
              "      <td>0.166088</td>\n",
              "      <td>0.197928</td>\n",
              "      <td>-0.396963</td>\n",
              "    </tr>\n",
              "    <tr>\n",
              "      <th>bathrooms</th>\n",
              "      <td>0.685661</td>\n",
              "      <td>0.004559</td>\n",
              "      <td>0.052314</td>\n",
              "      <td>3.010309</td>\n",
              "      <td>0.365868</td>\n",
              "      <td>-0.053249</td>\n",
              "      <td>0.305669</td>\n",
              "      <td>0.219134</td>\n",
              "      <td>-2.038707</td>\n",
              "      <td>-0.201689</td>\n",
              "      <td>-0.252617</td>\n",
              "    </tr>\n",
              "    <tr>\n",
              "      <th>hse_age</th>\n",
              "      <td>-5.214203</td>\n",
              "      <td>-0.131081</td>\n",
              "      <td>0.045380</td>\n",
              "      <td>0.365868</td>\n",
              "      <td>6.364770</td>\n",
              "      <td>-0.294104</td>\n",
              "      <td>0.430070</td>\n",
              "      <td>0.258595</td>\n",
              "      <td>-0.542070</td>\n",
              "      <td>0.633682</td>\n",
              "      <td>-0.828819</td>\n",
              "    </tr>\n",
              "    <tr>\n",
              "      <th>zipcode</th>\n",
              "      <td>-0.049194</td>\n",
              "      <td>-0.116980</td>\n",
              "      <td>0.009400</td>\n",
              "      <td>-0.053249</td>\n",
              "      <td>-0.294104</td>\n",
              "      <td>1.191765</td>\n",
              "      <td>0.112116</td>\n",
              "      <td>0.334990</td>\n",
              "      <td>0.003134</td>\n",
              "      <td>-0.188022</td>\n",
              "      <td>-0.029224</td>\n",
              "    </tr>\n",
              "    <tr>\n",
              "      <th>sqft_above</th>\n",
              "      <td>0.234814</td>\n",
              "      <td>0.482226</td>\n",
              "      <td>-0.103022</td>\n",
              "      <td>0.305669</td>\n",
              "      <td>0.430070</td>\n",
              "      <td>0.112116</td>\n",
              "      <td>5.315812</td>\n",
              "      <td>-0.545623</td>\n",
              "      <td>-3.813413</td>\n",
              "      <td>-0.698877</td>\n",
              "      <td>-0.026710</td>\n",
              "    </tr>\n",
              "    <tr>\n",
              "      <th>sqft_living15</th>\n",
              "      <td>-0.255879</td>\n",
              "      <td>-0.276036</td>\n",
              "      <td>0.074495</td>\n",
              "      <td>0.219134</td>\n",
              "      <td>0.258595</td>\n",
              "      <td>0.334990</td>\n",
              "      <td>-0.545623</td>\n",
              "      <td>2.835035</td>\n",
              "      <td>-1.037755</td>\n",
              "      <td>-0.774620</td>\n",
              "      <td>-0.104642</td>\n",
              "    </tr>\n",
              "    <tr>\n",
              "      <th>sqft_living</th>\n",
              "      <td>-0.311694</td>\n",
              "      <td>-0.365306</td>\n",
              "      <td>0.166088</td>\n",
              "      <td>-2.038707</td>\n",
              "      <td>-0.542070</td>\n",
              "      <td>0.003134</td>\n",
              "      <td>-3.813413</td>\n",
              "      <td>-1.037755</td>\n",
              "      <td>7.390820</td>\n",
              "      <td>-0.340023</td>\n",
              "      <td>-0.936769</td>\n",
              "    </tr>\n",
              "    <tr>\n",
              "      <th>grade</th>\n",
              "      <td>0.245083</td>\n",
              "      <td>-0.082571</td>\n",
              "      <td>0.197928</td>\n",
              "      <td>-0.201689</td>\n",
              "      <td>0.633682</td>\n",
              "      <td>-0.188022</td>\n",
              "      <td>-0.698877</td>\n",
              "      <td>-0.774620</td>\n",
              "      <td>-0.340023</td>\n",
              "      <td>3.619437</td>\n",
              "      <td>-1.164376</td>\n",
              "    </tr>\n",
              "    <tr>\n",
              "      <th>price</th>\n",
              "      <td>0.025741</td>\n",
              "      <td>-0.272780</td>\n",
              "      <td>-0.396963</td>\n",
              "      <td>-0.252617</td>\n",
              "      <td>-0.828819</td>\n",
              "      <td>-0.029224</td>\n",
              "      <td>-0.026710</td>\n",
              "      <td>-0.104642</td>\n",
              "      <td>-0.936769</td>\n",
              "      <td>-1.164376</td>\n",
              "      <td>2.815475</td>\n",
              "    </tr>\n",
              "  </tbody>\n",
              "</table>\n",
              "</div>"
            ],
            "text/plain": [
              "                      yrs_since_renovation      view  ...     grade     price\n",
              "yrs_since_renovation              6.154764  0.059289  ...  0.245083  0.025741\n",
              "view                              0.059289  1.428331  ... -0.082571 -0.272780\n",
              "waterfront                        0.077366 -0.460951  ...  0.197928 -0.396963\n",
              "bathrooms                         0.685661  0.004559  ... -0.201689 -0.252617\n",
              "hse_age                          -5.214203 -0.131081  ...  0.633682 -0.828819\n",
              "zipcode                          -0.049194 -0.116980  ... -0.188022 -0.029224\n",
              "sqft_above                        0.234814  0.482226  ... -0.698877 -0.026710\n",
              "sqft_living15                    -0.255879 -0.276036  ... -0.774620 -0.104642\n",
              "sqft_living                      -0.311694 -0.365306  ... -0.340023 -0.936769\n",
              "grade                             0.245083 -0.082571  ...  3.619437 -1.164376\n",
              "price                             0.025741 -0.272780  ... -1.164376  2.815475\n",
              "\n",
              "[11 rows x 11 columns]"
            ]
          },
          "metadata": {
            "tags": []
          },
          "execution_count": 357
        }
      ]
    },
    {
      "cell_type": "markdown",
      "metadata": {
        "id": "WD4WoLhkPtb7",
        "colab_type": "text"
      },
      "source": [
        "There is high correlation in very essential features like house age, yrs since renovation and squarefoot living. \n",
        "To treat multicollinearity we could have droped these columns but having them is essential to making our prediction."
      ]
    },
    {
      "cell_type": "markdown",
      "metadata": {
        "id": "tTwDjzqGjN5T",
        "colab_type": "text"
      },
      "source": [
        "##  Multiple Linear Regression"
      ]
    },
    {
      "cell_type": "code",
      "metadata": {
        "id": "Ajqmsm2fBmp0",
        "colab_type": "code",
        "colab": {}
      },
      "source": [
        "# Get your dependent and independent variable\n",
        "X= dfh.loc[:, dfh.columns!='price']\n",
        "\n",
        "y= dfh.iloc[:, dfh.columns == 'price']"
      ],
      "execution_count": 358,
      "outputs": []
    },
    {
      "cell_type": "code",
      "metadata": {
        "id": "1VoVvNjDKHLx",
        "colab_type": "code",
        "colab": {}
      },
      "source": [
        "# Splitting our model to train and test model\n",
        "from sklearn.model_selection import train_test_split\n",
        "\n",
        "X_train, X_test, y_train, y_test = train_test_split(X, y, test_size=0.25, random_state=101)"
      ],
      "execution_count": 359,
      "outputs": []
    },
    {
      "cell_type": "code",
      "metadata": {
        "id": "9X2ez0GkM8HV",
        "colab_type": "code",
        "colab": {
          "base_uri": "https://localhost:8080/",
          "height": 34
        },
        "outputId": "2baeb36a-b133-4ca2-f5ce-2990828bf030"
      },
      "source": [
        "linear = linear_model.LinearRegression()\n",
        "linear.fit(X_train, y_train) \n"
      ],
      "execution_count": 360,
      "outputs": [
        {
          "output_type": "execute_result",
          "data": {
            "text/plain": [
              "LinearRegression(copy_X=True, fit_intercept=True, n_jobs=None, normalize=False)"
            ]
          },
          "metadata": {
            "tags": []
          },
          "execution_count": 360
        }
      ]
    },
    {
      "cell_type": "code",
      "metadata": {
        "id": "2wHRel4CNHil",
        "colab_type": "code",
        "colab": {
          "base_uri": "https://localhost:8080/",
          "height": 102
        },
        "outputId": "659b5656-5742-4e4f-cc08-d4437547e31e"
      },
      "source": [
        "from sklearn.metrics import mean_squared_error\n",
        "print(\"linear R score:\", linear.score(X_test, y_test)) \n",
        "print(\"linear MSE:\", mean_squared_error(y_test, linear.predict(X_test))) \n",
        "print(\"linear coef:\", linear.coef_)"
      ],
      "execution_count": 361,
      "outputs": [
        {
          "output_type": "stream",
          "text": [
            "linear R score: 0.6588417098077766\n",
            "linear MSE: 48433175547.436104\n",
            "linear coef: [[-2.21792123e+03  4.53727462e+04  5.69148426e+05  9.50065123e+03\n",
            "   1.06798544e+05  1.71259932e+02  5.83963500e+03  1.49693964e+04\n",
            "   1.19637410e+05  1.30111613e+05]]\n"
          ],
          "name": "stdout"
        }
      ]
    },
    {
      "cell_type": "markdown",
      "metadata": {
        "id": "27RV1GbhQl-X",
        "colab_type": "text"
      },
      "source": [
        "* Our Linear model has 65% accuracy which is a bit low.\n",
        "\n",
        "* Our Linear model has an MSE of 48433175547.436104 which is greater than 10% of price mean, meaning that it did not perform that well in that regard."
      ]
    },
    {
      "cell_type": "code",
      "metadata": {
        "id": "rhhc9kd8N-_j",
        "colab_type": "code",
        "colab": {}
      },
      "source": [
        "# Allowing our model to predict our X test to be able to visualize how well it performed\n",
        "linear= linear.predict(X_test)"
      ],
      "execution_count": 362,
      "outputs": []
    },
    {
      "cell_type": "code",
      "metadata": {
        "id": "yxAP4WzGOWmJ",
        "colab_type": "code",
        "colab": {
          "base_uri": "https://localhost:8080/",
          "height": 392
        },
        "outputId": "0ab283c5-1eb5-4eb8-a323-c635e1409ab1"
      },
      "source": [
        "# Plotting  predictions for linear regression\n",
        "import seaborn as sns\n",
        "sns.distplot(y_test-linear)\n",
        "plt.title(\"           prediction difference between actual vs predicted price\")"
      ],
      "execution_count": 363,
      "outputs": [
        {
          "output_type": "execute_result",
          "data": {
            "text/plain": [
              "Text(0.5, 1.0, '           prediction difference between actual vs predicted price')"
            ]
          },
          "metadata": {
            "tags": []
          },
          "execution_count": 363
        },
        {
          "output_type": "display_data",
          "data": {
            "image/png": "[encoded data removed]",
            "text/plain": [
              "<Figure size 576x396 with 1 Axes>"
            ]
          },
          "metadata": {
            "tags": []
          }
        }
      ]
    },
    {
      "cell_type": "code",
      "metadata": {
        "id": "xiaUJaPHPaxP",
        "colab_type": "code",
        "colab": {
          "base_uri": "https://localhost:8080/",
          "height": 388
        },
        "outputId": "0a7d29c0-c40f-4d09-f21b-d6ffd322c987"
      },
      "source": [
        "plt.scatter(y_test, linear)"
      ],
      "execution_count": 364,
      "outputs": [
        {
          "output_type": "execute_result",
          "data": {
            "text/plain": [
              "<matplotlib.collections.PathCollection at 0x7f87864afa20>"
            ]
          },
          "metadata": {
            "tags": []
          },
          "execution_count": 364
        },
        {
          "output_type": "display_data",
          "data": {
            "image/png": "[encoded data removed]",
            "text/plain": [
              "<Figure size 576x396 with 1 Axes>"
            ]
          },
          "metadata": {
            "tags": []
          }
        }
      ]
    },
    {
      "cell_type": "markdown",
      "metadata": {
        "id": "MtaqG75AjdaQ",
        "colab_type": "text"
      },
      "source": [
        "## Quantile Regression"
      ]
    },
    {
      "cell_type": "markdown",
      "metadata": {
        "id": "qN5hYVKRjHZy",
        "colab_type": "text"
      },
      "source": [
        "\n",
        "\n",
        "---\n",
        "\n",
        "Lets first test for Heteroskedasticity"
      ]
    },
    {
      "cell_type": "code",
      "metadata": {
        "id": "IO9ifbjppPC5",
        "colab_type": "code",
        "colab": {
          "base_uri": "https://localhost:8080/",
          "height": 51
        },
        "outputId": "0059c5d4-29c9-4e72-9103-078fd6508149"
      },
      "source": [
        "# We now create the residual by substracting the test value from the predicted X_test in the linear regression model\n",
        "\n",
        "residuals = np.subtract(linear, y_test)\n",
        "\n",
        "# Let's describe our residual:\n",
        "pd.DataFrame(residuals).describe()\n",
        "\n",
        "print(residuals.mean())"
      ],
      "execution_count": 365,
      "outputs": [
        {
          "output_type": "stream",
          "text": [
            "price   -251.809292\n",
            "dtype: float64\n"
          ],
          "name": "stdout"
        }
      ]
    },
    {
      "cell_type": "code",
      "metadata": {
        "id": "IHQOLs1Nh2bx",
        "colab_type": "code",
        "colab": {
          "base_uri": "https://localhost:8080/",
          "height": 746
        },
        "outputId": "777e8df8-23d1-4e69-b704-502983e12963"
      },
      "source": [
        "# We now create the residual by substracting the test value from the predicted X_test in the linear regression model\n",
        "\n",
        "residuals = np.subtract(linear, y_test)\n",
        "\n",
        "# Let's describe our residual:\n",
        "pd.DataFrame(residuals).describe()\n",
        "\n",
        "print(residuals.mean())\n",
        "# Lets now visualize our residuals\n",
        "import matplotlib.pyplot as plt\n",
        "plt.scatter(linear, residuals, color='black')\n",
        "plt.ylabel('residual')\n",
        "plt.xlabel('fitted values')\n",
        "plt.axhline(y= residuals.mean(numeric_only=True), color='red', linewidth=1)\n",
        "plt.show()"
      ],
      "execution_count": 372,
      "outputs": [
        {
          "output_type": "stream",
          "text": [
            "price   -251.809292\n",
            "dtype: float64\n"
          ],
          "name": "stdout"
        },
        {
          "output_type": "error",
          "ename": "ValueError",
          "evalue": "ignored",
          "traceback": [
            "\u001b[0;31m---------------------------------------------------------------------------\u001b[0m",
            "\u001b[0;31mValueError\u001b[0m                                Traceback (most recent call last)",
            "\u001b[0;32m<ipython-input-372-9b047ff9b5cf>\u001b[0m in \u001b[0;36m<module>\u001b[0;34m()\u001b[0m\n\u001b[1;32m     12\u001b[0m \u001b[0mplt\u001b[0m\u001b[0;34m.\u001b[0m\u001b[0mylabel\u001b[0m\u001b[0;34m(\u001b[0m\u001b[0;34m'residual'\u001b[0m\u001b[0;34m)\u001b[0m\u001b[0;34m\u001b[0m\u001b[0;34m\u001b[0m\u001b[0m\n\u001b[1;32m     13\u001b[0m \u001b[0mplt\u001b[0m\u001b[0;34m.\u001b[0m\u001b[0mxlabel\u001b[0m\u001b[0;34m(\u001b[0m\u001b[0;34m'fitted values'\u001b[0m\u001b[0;34m)\u001b[0m\u001b[0;34m\u001b[0m\u001b[0;34m\u001b[0m\u001b[0m\n\u001b[0;32m---> 14\u001b[0;31m \u001b[0mplt\u001b[0m\u001b[0;34m.\u001b[0m\u001b[0maxhline\u001b[0m\u001b[0;34m(\u001b[0m\u001b[0my\u001b[0m\u001b[0;34m=\u001b[0m \u001b[0mresiduals\u001b[0m\u001b[0;34m.\u001b[0m\u001b[0mmean\u001b[0m\u001b[0;34m(\u001b[0m\u001b[0mnumeric_only\u001b[0m\u001b[0;34m=\u001b[0m\u001b[0;32mFalse\u001b[0m\u001b[0;34m)\u001b[0m\u001b[0;34m,\u001b[0m \u001b[0mcolor\u001b[0m\u001b[0;34m=\u001b[0m\u001b[0;34m'red'\u001b[0m\u001b[0;34m,\u001b[0m \u001b[0mlinewidth\u001b[0m\u001b[0;34m=\u001b[0m\u001b[0;36m1\u001b[0m\u001b[0;34m)\u001b[0m\u001b[0;34m\u001b[0m\u001b[0;34m\u001b[0m\u001b[0m\n\u001b[0m\u001b[1;32m     15\u001b[0m \u001b[0mplt\u001b[0m\u001b[0;34m.\u001b[0m\u001b[0mshow\u001b[0m\u001b[0;34m(\u001b[0m\u001b[0;34m)\u001b[0m\u001b[0;34m\u001b[0m\u001b[0;34m\u001b[0m\u001b[0m\n",
            "\u001b[0;32m/usr/local/lib/python3.6/dist-packages/matplotlib/pyplot.py\u001b[0m in \u001b[0;36maxhline\u001b[0;34m(y, xmin, xmax, **kwargs)\u001b[0m\n\u001b[1;32m   2373\u001b[0m \u001b[0;34m@\u001b[0m\u001b[0mdocstring\u001b[0m\u001b[0;34m.\u001b[0m\u001b[0mcopy\u001b[0m\u001b[0;34m(\u001b[0m\u001b[0mAxes\u001b[0m\u001b[0;34m.\u001b[0m\u001b[0maxhline\u001b[0m\u001b[0;34m)\u001b[0m\u001b[0;34m\u001b[0m\u001b[0;34m\u001b[0m\u001b[0m\n\u001b[1;32m   2374\u001b[0m \u001b[0;32mdef\u001b[0m \u001b[0maxhline\u001b[0m\u001b[0;34m(\u001b[0m\u001b[0my\u001b[0m\u001b[0;34m=\u001b[0m\u001b[0;36m0\u001b[0m\u001b[0;34m,\u001b[0m \u001b[0mxmin\u001b[0m\u001b[0;34m=\u001b[0m\u001b[0;36m0\u001b[0m\u001b[0;34m,\u001b[0m \u001b[0mxmax\u001b[0m\u001b[0;34m=\u001b[0m\u001b[0;36m1\u001b[0m\u001b[0;34m,\u001b[0m \u001b[0;34m**\u001b[0m\u001b[0mkwargs\u001b[0m\u001b[0;34m)\u001b[0m\u001b[0;34m:\u001b[0m\u001b[0;34m\u001b[0m\u001b[0;34m\u001b[0m\u001b[0m\n\u001b[0;32m-> 2375\u001b[0;31m     \u001b[0;32mreturn\u001b[0m \u001b[0mgca\u001b[0m\u001b[0;34m(\u001b[0m\u001b[0;34m)\u001b[0m\u001b[0;34m.\u001b[0m\u001b[0maxhline\u001b[0m\u001b[0;34m(\u001b[0m\u001b[0my\u001b[0m\u001b[0;34m=\u001b[0m\u001b[0my\u001b[0m\u001b[0;34m,\u001b[0m \u001b[0mxmin\u001b[0m\u001b[0;34m=\u001b[0m\u001b[0mxmin\u001b[0m\u001b[0;34m,\u001b[0m \u001b[0mxmax\u001b[0m\u001b[0;34m=\u001b[0m\u001b[0mxmax\u001b[0m\u001b[0;34m,\u001b[0m \u001b[0;34m**\u001b[0m\u001b[0mkwargs\u001b[0m\u001b[0;34m)\u001b[0m\u001b[0;34m\u001b[0m\u001b[0;34m\u001b[0m\u001b[0m\n\u001b[0m\u001b[1;32m   2376\u001b[0m \u001b[0;34m\u001b[0m\u001b[0m\n\u001b[1;32m   2377\u001b[0m \u001b[0;34m\u001b[0m\u001b[0m\n",
            "\u001b[0;32m/usr/local/lib/python3.6/dist-packages/matplotlib/axes/_axes.py\u001b[0m in \u001b[0;36maxhline\u001b[0;34m(self, y, xmin, xmax, **kwargs)\u001b[0m\n\u001b[1;32m    845\u001b[0m         \u001b[0mself\u001b[0m\u001b[0;34m.\u001b[0m\u001b[0m_process_unit_info\u001b[0m\u001b[0;34m(\u001b[0m\u001b[0mydata\u001b[0m\u001b[0;34m=\u001b[0m\u001b[0my\u001b[0m\u001b[0;34m,\u001b[0m \u001b[0mkwargs\u001b[0m\u001b[0;34m=\u001b[0m\u001b[0mkwargs\u001b[0m\u001b[0;34m)\u001b[0m\u001b[0;34m\u001b[0m\u001b[0;34m\u001b[0m\u001b[0m\n\u001b[1;32m    846\u001b[0m         \u001b[0myy\u001b[0m \u001b[0;34m=\u001b[0m \u001b[0mself\u001b[0m\u001b[0;34m.\u001b[0m\u001b[0mconvert_yunits\u001b[0m\u001b[0;34m(\u001b[0m\u001b[0my\u001b[0m\u001b[0;34m)\u001b[0m\u001b[0;34m\u001b[0m\u001b[0;34m\u001b[0m\u001b[0m\n\u001b[0;32m--> 847\u001b[0;31m         \u001b[0mscaley\u001b[0m \u001b[0;34m=\u001b[0m \u001b[0;34m(\u001b[0m\u001b[0myy\u001b[0m \u001b[0;34m<\u001b[0m \u001b[0mymin\u001b[0m\u001b[0;34m)\u001b[0m \u001b[0;32mor\u001b[0m \u001b[0;34m(\u001b[0m\u001b[0myy\u001b[0m \u001b[0;34m>\u001b[0m \u001b[0mymax\u001b[0m\u001b[0;34m)\u001b[0m\u001b[0;34m\u001b[0m\u001b[0;34m\u001b[0m\u001b[0m\n\u001b[0m\u001b[1;32m    848\u001b[0m \u001b[0;34m\u001b[0m\u001b[0m\n\u001b[1;32m    849\u001b[0m         \u001b[0mtrans\u001b[0m \u001b[0;34m=\u001b[0m \u001b[0mself\u001b[0m\u001b[0;34m.\u001b[0m\u001b[0mget_yaxis_transform\u001b[0m\u001b[0;34m(\u001b[0m\u001b[0mwhich\u001b[0m\u001b[0;34m=\u001b[0m\u001b[0;34m'grid'\u001b[0m\u001b[0;34m)\u001b[0m\u001b[0;34m\u001b[0m\u001b[0;34m\u001b[0m\u001b[0m\n",
            "\u001b[0;32m/usr/local/lib/python3.6/dist-packages/pandas/core/generic.py\u001b[0m in \u001b[0;36m__nonzero__\u001b[0;34m(self)\u001b[0m\n\u001b[1;32m   1477\u001b[0m     \u001b[0;32mdef\u001b[0m \u001b[0m__nonzero__\u001b[0m\u001b[0;34m(\u001b[0m\u001b[0mself\u001b[0m\u001b[0;34m)\u001b[0m\u001b[0;34m:\u001b[0m\u001b[0;34m\u001b[0m\u001b[0;34m\u001b[0m\u001b[0m\n\u001b[1;32m   1478\u001b[0m         raise ValueError(\n\u001b[0;32m-> 1479\u001b[0;31m             \u001b[0;34mf\"The truth value of a {type(self).__name__} is ambiguous. \"\u001b[0m\u001b[0;34m\u001b[0m\u001b[0;34m\u001b[0m\u001b[0m\n\u001b[0m\u001b[1;32m   1480\u001b[0m             \u001b[0;34m\"Use a.empty, a.bool(), a.item(), a.any() or a.all().\"\u001b[0m\u001b[0;34m\u001b[0m\u001b[0;34m\u001b[0m\u001b[0m\n\u001b[1;32m   1481\u001b[0m         )\n",
            "\u001b[0;31mValueError\u001b[0m: The truth value of a Series is ambiguous. Use a.empty, a.bool(), a.item(), a.any() or a.all()."
          ]
        },
        {
          "output_type": "display_data",
          "data": {
            "image/png": "[encoded data removed]",
            "text/plain": [
              "<Figure size 576x396 with 1 Axes>"
            ]
          },
          "metadata": {
            "tags": []
          }
        }
      ]
    },
    {
      "cell_type": "code",
      "metadata": {
        "id": "RILiqh0eSo7G",
        "colab_type": "code",
        "colab": {}
      },
      "source": [
        "# Get your dependent and independent variable\n",
        "import numpy as np\n",
        "\n",
        "noise = np.random.normal(0,1,10)\n",
        "x= dfh.loc[:, dfh.columns != 'price']+ noise\n",
        "noise1= np.random.normal(0,1,1)\n",
        "y= dfh.iloc[:, dfh.columns == 'price']+noise1"
      ],
      "execution_count": null,
      "outputs": []
    },
    {
      "cell_type": "code",
      "metadata": {
        "id": "M2fmD4-Ojke6",
        "colab_type": "code",
        "colab": {}
      },
      "source": [
        "# To show quantile regression results in form of percentiles\n",
        "import statsmodels.formula.api as smf\n",
        "# \n",
        "mod=smf.quantreg('y~X',df)\n",
        "q1=mod.fit(q=0.1)\n",
        "q5=mod.fit(q=0.5)\n",
        "q9=mod.fit(q=0.9)\n",
        "\n",
        "# print summary of the model\n",
        "print(\"10th Percentile\")\n",
        "print(q1.summary())\n",
        "print(\"\")\n",
        "print(\"50th Percentile\")\n",
        "print(q5.summary())\n",
        "print(\"\")\n",
        "print(\"90th Percentile\")\n",
        "print(q9.summary())"
      ],
      "execution_count": null,
      "outputs": []
    },
    {
      "cell_type": "markdown",
      "metadata": {
        "id": "4P5QvnqGW3kI",
        "colab_type": "text"
      },
      "source": [
        "The percentile with the highest r squared is the 90th percentile (51.47) which is lower in terms of perfomance compared to the Linear Regression which was 65.8"
      ]
    },
    {
      "cell_type": "markdown",
      "metadata": {
        "id": "GEJT5FnBj39e",
        "colab_type": "text"
      },
      "source": [
        "## Ridge Regression"
      ]
    },
    {
      "cell_type": "code",
      "metadata": {
        "id": "E2k_3Xwuj77J",
        "colab_type": "code",
        "colab": {}
      },
      "source": [
        "# Using lasso regression on our model and choosing the regularization parameter with the help of GridSearch. \n",
        "from sklearn.linear_model import Ridge\n",
        "ridge = Ridge(normalize=True)\n",
        "gridridge = GridSearchCV(estimator=ridge,param_grid={'alpha':np.logspace(-5,2,8)},scoring='r2',cv=10)"
      ],
      "execution_count": null,
      "outputs": []
    },
    {
      "cell_type": "code",
      "metadata": {
        "id": "6G-CYu_lxZmX",
        "colab_type": "code",
        "colab": {}
      },
      "source": [
        "#\n",
        "# ridge = Ridge(normalize=True,alpha=0.01)\n",
        "gridridge.fit(X_train,y_train)\n",
        "\n",
        "# model = (mean_squared_error(y_true=y,y_pred=ridge.predict(X)))\n",
        "print(\"Ridge MSE:\", mean_squared_error(y_test, gridridge.predict(X_test)))\n",
        "print(\"Ridge score:\", gridridge.score(X_test, y_test))"
      ],
      "execution_count": null,
      "outputs": []
    },
    {
      "cell_type": "code",
      "metadata": {
        "id": "3ImJqXryxLAJ",
        "colab_type": "code",
        "colab": {}
      },
      "source": [
        "# Showing the coefficients of our variables by ridge regression,\n",
        "# \n",
        "coef_dict_baseline = {}\n",
        "for coef, feat in zip(ridge.coef_,dfh.columns):\n",
        "    coef_dict_baseline[feat] = coef\n",
        "coef_dict_baseline"
      ],
      "execution_count": null,
      "outputs": []
    },
    {
      "cell_type": "code",
      "metadata": {
        "colab_type": "code",
        "id": "QauZGa5RyuLI",
        "colab": {}
      },
      "source": [
        "# Allowing our model to predict our X test to be able to visualize how well it performed\n",
        "gridridge= gridridge.predict(X_test)"
      ],
      "execution_count": null,
      "outputs": []
    },
    {
      "cell_type": "code",
      "metadata": {
        "id": "R4Reh3kTy2OX",
        "colab_type": "code",
        "colab": {}
      },
      "source": [
        "# Plotting  predictions for ridge\n",
        "import seaborn as sns\n",
        "sns.distplot(y_test-gridridge)"
      ],
      "execution_count": null,
      "outputs": []
    },
    {
      "cell_type": "markdown",
      "metadata": {
        "id": "vtBNbMo4jnNe",
        "colab_type": "text"
      },
      "source": [
        "## Lasso Regression"
      ]
    },
    {
      "cell_type": "code",
      "metadata": {
        "id": "_JQ_dOz63cvq",
        "colab_type": "code",
        "colab": {}
      },
      "source": [
        "# Building our model\n",
        "from sklearn.model_selection import GridSearchCV\n",
        "from sklearn import linear_model\n",
        "lasso = linear_model.Lasso(normalize=True) \n",
        "gridlasso = GridSearchCV(lasso, param_grid={'alpha':np.logspace(0,20,1)}, scoring ='r2') \n"
      ],
      "execution_count": null,
      "outputs": []
    },
    {
      "cell_type": "code",
      "metadata": {
        "id": "3ODGzenY34QQ",
        "colab_type": "code",
        "colab": {}
      },
      "source": [
        "# Fitting models and print the best parameters, R-squared scores, MSE, and coefficients\n",
        "gridlasso.fit(X_train, y_train)\n",
        "#\n",
        "print(\"lasso best parameters:\", gridlasso.best_params_) \n",
        "print(\"lasso R score:\", gridlasso.score(X_test, y_test))\n",
        "print(\"lasso MSE:\", mean_squared_error(y_test, gridlasso.predict(X_test)))"
      ],
      "execution_count": null,
      "outputs": []
    },
    {
      "cell_type": "code",
      "metadata": {
        "id": "r4D11jbl877T",
        "colab_type": "code",
        "colab": {}
      },
      "source": [
        "# Importing library for visualization\n",
        "#\n",
        "import matplotlib.pyplot as plt\n",
        "coefsLasso = [] \n",
        "\n",
        "# Building Lasso for 200 values of alpha and write the coefficients into array\n",
        "# \n",
        "alphasLasso = np.arange (0, 20, 0.1) \n",
        "for i in range(200):\n",
        "    lasso = linear_model.Lasso(alpha=alphasLasso[i])\n",
        "    lasso.fit(X_train, y_train)\n",
        "    coefsLasso.append(lasso.coef_) \n",
        "\n",
        "# Building Lasso coefficient plots\n",
        "# \n",
        "plt.figure(figsize = (16,7))\n",
        "\n",
        "plt.subplot(121)\n",
        "plt.plot(alphasLasso, coefsLasso)\n",
        "plt.title('Lasso coefficients')\n",
        "plt.xlabel('alpha')\n",
        "plt.ylabel('coefs')\n",
        "\n",
        "plt.show()"
      ],
      "execution_count": null,
      "outputs": []
    },
    {
      "cell_type": "markdown",
      "metadata": {
        "id": "_NwSPD-YDRgk",
        "colab_type": "text"
      },
      "source": [
        "Our lasso coefficients have not all been reduced to zero but a few, those with coefficients large enough, like say 50,000 were spared."
      ]
    },
    {
      "cell_type": "markdown",
      "metadata": {
        "id": "yO6zpasQj8i0",
        "colab_type": "text"
      },
      "source": [
        "## Elastic Net Regression"
      ]
    },
    {
      "cell_type": "code",
      "metadata": {
        "id": "I-c40pFGkRW6",
        "colab_type": "code",
        "colab": {}
      },
      "source": [
        "from sklearn.model_selection import GridSearchCV\n",
        "from sklearn.linear_model import ElasticNet\n",
        "from sklearn.linear_model import LinearRegression\n",
        "from sklearn.metrics import mean_squared_error"
      ],
      "execution_count": null,
      "outputs": []
    },
    {
      "cell_type": "code",
      "metadata": {
        "id": "slBa3TuPsQ5A",
        "colab_type": "code",
        "colab": {}
      },
      "source": [
        "# creating our base elastic Net Model\n",
        "# \n",
        "elastic=ElasticNet(normalize=True)\n",
        "search=GridSearchCV(estimator=elastic,param_grid={'alpha':np.logspace(-5,2,8),'l1_ratio':[.2,.4,.6,.8]},scoring='neg_mean_squared_error',n_jobs=1,refit=True,cv=10)"
      ],
      "execution_count": null,
      "outputs": []
    },
    {
      "cell_type": "code",
      "metadata": {
        "id": "KhjEL3t4-Avl",
        "colab_type": "code",
        "colab": {}
      },
      "source": [
        "# Mse without finding our hyperparameters\n",
        "search.fit(X,y)\n",
        "print(search.best_params_)\n",
        "abs(search.best_score_)"
      ],
      "execution_count": null,
      "outputs": []
    },
    {
      "cell_type": "code",
      "metadata": {
        "id": "KBELCdI1-u49",
        "colab_type": "code",
        "colab": {}
      },
      "source": [
        "# The hyperparameters gotten were alpha of 0.00001 and an l1 ratio of 0.8\n",
        "\n",
        "elastic=ElasticNet(normalize=True,alpha=0.00001,l1_ratio=0.75)\n",
        "elastic.fit(X,y)\n",
        "second_model=(mean_squared_error(y_true=y,y_pred=elastic.predict(X)))\n",
        "print(\"MSE Elastic Net:\",second_model)\n",
        "print(\"\")"
      ],
      "execution_count": null,
      "outputs": []
    },
    {
      "cell_type": "markdown",
      "metadata": {
        "id": "XI-mcjTc_bZ2",
        "colab_type": "text"
      },
      "source": [
        "The MSE of our second model has reduced substantially after including our hyperparameters."
      ]
    },
    {
      "cell_type": "code",
      "metadata": {
        "id": "gpzR2KETtPDY",
        "colab_type": "code",
        "colab": {}
      },
      "source": [
        "# Visualizing the coefficients\n",
        "# \n",
        "coef_dict_baseline = {}\n",
        "for coef, feat in zip(elastic.coef_,X.columns):\n",
        "    coef_dict_baseline[feat] = coef\n",
        "coef_dict_baseline"
      ],
      "execution_count": null,
      "outputs": []
    },
    {
      "cell_type": "markdown",
      "metadata": {
        "id": "5XrFZP0FAFi8",
        "colab_type": "text"
      },
      "source": [
        "None of our model variables have been entirely removed by elastic net which is amazing"
      ]
    },
    {
      "cell_type": "code",
      "metadata": {
        "id": "i_t7JUJa_1yN",
        "colab_type": "code",
        "colab": {}
      },
      "source": [
        "elastic= elastic.predict(X_test)\n",
        "elastic"
      ],
      "execution_count": null,
      "outputs": []
    },
    {
      "cell_type": "code",
      "metadata": {
        "id": "rh8NzppYFJjo",
        "colab_type": "code",
        "colab": {}
      },
      "source": [
        "dfa=pd.DataFrame(data=elastic,columns=[\"Predicted\"])\n",
        "dfa.head(3)"
      ],
      "execution_count": null,
      "outputs": []
    },
    {
      "cell_type": "code",
      "metadata": {
        "id": "xpoKje-EF7Wt",
        "colab_type": "code",
        "colab": {
          "base_uri": "https://localhost:8080/",
          "height": 419
        },
        "outputId": "dab39df4-1923-4ddd-b2ec-6b51a7c58516"
      },
      "source": [
        "dfb=pd.DataFrame(data=y_test,columns=[\"Actual\"])\n",
        "dfb.head()"
      ],
      "execution_count": null,
      "outputs": [
        {
          "output_type": "execute_result",
          "data": {
            "text/html": [
              "<div>\n",
              "<style scoped>\n",
              "    .dataframe tbody tr th:only-of-type {\n",
              "        vertical-align: middle;\n",
              "    }\n",
              "\n",
              "    .dataframe tbody tr th {\n",
              "        vertical-align: top;\n",
              "    }\n",
              "\n",
              "    .dataframe thead th {\n",
              "        text-align: right;\n",
              "    }\n",
              "</style>\n",
              "<table border=\"1\" class=\"dataframe\">\n",
              "  <thead>\n",
              "    <tr style=\"text-align: right;\">\n",
              "      <th></th>\n",
              "      <th>price</th>\n",
              "    </tr>\n",
              "  </thead>\n",
              "  <tbody>\n",
              "    <tr>\n",
              "      <th>3834</th>\n",
              "      <td>349950.0</td>\n",
              "    </tr>\n",
              "    <tr>\n",
              "      <th>1348</th>\n",
              "      <td>450000.0</td>\n",
              "    </tr>\n",
              "    <tr>\n",
              "      <th>20366</th>\n",
              "      <td>635000.0</td>\n",
              "    </tr>\n",
              "    <tr>\n",
              "      <th>16617</th>\n",
              "      <td>355500.0</td>\n",
              "    </tr>\n",
              "    <tr>\n",
              "      <th>20925</th>\n",
              "      <td>246950.0</td>\n",
              "    </tr>\n",
              "    <tr>\n",
              "      <th>...</th>\n",
              "      <td>...</td>\n",
              "    </tr>\n",
              "    <tr>\n",
              "      <th>7148</th>\n",
              "      <td>738000.0</td>\n",
              "    </tr>\n",
              "    <tr>\n",
              "      <th>2747</th>\n",
              "      <td>726000.0</td>\n",
              "    </tr>\n",
              "    <tr>\n",
              "      <th>15565</th>\n",
              "      <td>560000.0</td>\n",
              "    </tr>\n",
              "    <tr>\n",
              "      <th>21238</th>\n",
              "      <td>299000.0</td>\n",
              "    </tr>\n",
              "    <tr>\n",
              "      <th>2333</th>\n",
              "      <td>555000.0</td>\n",
              "    </tr>\n",
              "  </tbody>\n",
              "</table>\n",
              "<p>5404 rows × 1 columns</p>\n",
              "</div>"
            ],
            "text/plain": [
              "          price\n",
              "3834   349950.0\n",
              "1348   450000.0\n",
              "20366  635000.0\n",
              "16617  355500.0\n",
              "20925  246950.0\n",
              "...         ...\n",
              "7148   738000.0\n",
              "2747   726000.0\n",
              "15565  560000.0\n",
              "21238  299000.0\n",
              "2333   555000.0\n",
              "\n",
              "[5404 rows x 1 columns]"
            ]
          },
          "metadata": {
            "tags": []
          },
          "execution_count": 333
        }
      ]
    },
    {
      "cell_type": "code",
      "metadata": {
        "id": "F5s2jyCaDoZd",
        "colab_type": "code",
        "colab": {}
      },
      "source": [
        "df_final = pd.DataFrame({'Actual': y_test, 'Predicted': dfa['Predicted']})\n",
        "df_final"
      ],
      "execution_count": null,
      "outputs": []
    },
    {
      "cell_type": "code",
      "metadata": {
        "id": "2YjrHkIwD0Fb",
        "colab_type": "code",
        "colab": {
          "base_uri": "https://localhost:8080/",
          "height": 1000
        },
        "outputId": "6dd3e3aa-4fe1-46ce-a2f3-b3af759ef9be"
      },
      "source": [
        "df1 = df\n",
        "df1.plot(kind='bar',figsize=(16,10))\n",
        "plt.grid(which='major', linestyle='-', linewidth='0.5', color='green')\n",
        "plt.grid(which='minor', linestyle=':', linewidth='0.5', color='black')\n",
        "plt.title(\"A Graph representing the actual and predicted\")\n",
        "plt.show()"
      ],
      "execution_count": 336,
      "outputs": [
        {
          "output_type": "stream",
          "text": [
            "ERROR:root:Internal Python error in the inspect module.\n",
            "Below is the traceback from this internal error.\n",
            "\n"
          ],
          "name": "stderr"
        },
        {
          "output_type": "stream",
          "text": [
            "Traceback (most recent call last):\n",
            "  File \"/usr/local/lib/python3.6/dist-packages/IPython/core/interactiveshell.py\", line 2882, in run_code\n",
            "    exec(code_obj, self.user_global_ns, self.user_ns)\n",
            "  File \"<ipython-input-336-f07202486c72>\", line 6, in <module>\n",
            "    plt.show()\n",
            "  File \"/usr/local/lib/python3.6/dist-packages/matplotlib/pyplot.py\", line 272, in show\n",
            "    return _show(*args, **kw)\n",
            "  File \"/usr/local/lib/python3.6/dist-packages/ipykernel/pylab/backend_inline.py\", line 39, in show\n",
            "    metadata=_fetch_figure_metadata(figure_manager.canvas.figure)\n",
            "  File \"/usr/local/lib/python3.6/dist-packages/IPython/core/display.py\", line 306, in display\n",
            "    format_dict, md_dict = format(obj, include=include, exclude=exclude)\n",
            "  File \"/usr/local/lib/python3.6/dist-packages/IPython/core/formatters.py\", line 173, in format\n",
            "    data = formatter(obj)\n",
            "  File \"<decorator-gen-9>\", line 2, in __call__\n",
            "  File \"/usr/local/lib/python3.6/dist-packages/IPython/core/formatters.py\", line 217, in catch_format_error\n",
            "    r = method(self, *args, **kwargs)\n",
            "  File \"/usr/local/lib/python3.6/dist-packages/IPython/core/formatters.py\", line 334, in __call__\n",
            "    return printer(obj)\n",
            "  File \"/usr/local/lib/python3.6/dist-packages/IPython/core/pylabtools.py\", line 241, in <lambda>\n",
            "    png_formatter.for_type(Figure, lambda fig: print_figure(fig, 'png', **kwargs))\n",
            "  File \"/usr/local/lib/python3.6/dist-packages/IPython/core/pylabtools.py\", line 125, in print_figure\n",
            "    fig.canvas.print_figure(bytes_io, **kw)\n",
            "  File \"/usr/local/lib/python3.6/dist-packages/matplotlib/backend_bases.py\", line 2103, in print_figure\n",
            "    bbox_extra_artists=bbox_artists)\n",
            "  File \"/usr/local/lib/python3.6/dist-packages/matplotlib/figure.py\", line 2385, in get_tightbbox\n",
            "    bbox = a.get_tightbbox(renderer)\n",
            "  File \"/usr/local/lib/python3.6/dist-packages/matplotlib/axes/_base.py\", line 4361, in get_tightbbox\n",
            "    bbox = a.get_tightbbox(renderer)\n",
            "  File \"/usr/local/lib/python3.6/dist-packages/matplotlib/legend.py\", line 982, in get_tightbbox\n",
            "    return self._legend_box.get_window_extent(renderer)\n",
            "  File \"/usr/local/lib/python3.6/dist-packages/matplotlib/offsetbox.py\", line 334, in get_window_extent\n",
            "    px, py = self.get_offset(w, h, xd, yd, renderer)\n",
            "  File \"/usr/local/lib/python3.6/dist-packages/matplotlib/offsetbox.py\", line 274, in get_offset\n",
            "    if callable(self._offset)\n",
            "  File \"/usr/local/lib/python3.6/dist-packages/matplotlib/legend.py\", line 587, in _findoffset\n",
            "    x, y = self._find_best_position(width, height, renderer)\n",
            "  File \"/usr/local/lib/python3.6/dist-packages/matplotlib/legend.py\", line 1088, in _find_best_position\n",
            "    verts, bboxes, lines, offsets = self._auto_legend_data()\n",
            "  File \"/usr/local/lib/python3.6/dist-packages/matplotlib/legend.py\", line 880, in _auto_legend_data\n",
            "    bboxes.append(handle.get_bbox().transformed(transform))\n",
            "  File \"/usr/local/lib/python3.6/dist-packages/matplotlib/transforms.py\", line 514, in transformed\n",
            "    return Bbox([ll, [lr[0], ul[1]]])\n",
            "  File \"/usr/local/lib/python3.6/dist-packages/matplotlib/transforms.py\", line 751, in __init__\n",
            "    self._points_orig = self._points.copy()\n",
            "KeyboardInterrupt\n",
            "\n",
            "During handling of the above exception, another exception occurred:\n",
            "\n",
            "Traceback (most recent call last):\n",
            "  File \"/usr/local/lib/python3.6/dist-packages/IPython/core/interactiveshell.py\", line 1823, in showtraceback\n",
            "    stb = value._render_traceback_()\n",
            "AttributeError: 'KeyboardInterrupt' object has no attribute '_render_traceback_'\n",
            "\n",
            "During handling of the above exception, another exception occurred:\n",
            "\n",
            "Traceback (most recent call last):\n",
            "  File \"/usr/local/lib/python3.6/dist-packages/IPython/core/ultratb.py\", line 1132, in get_records\n",
            "    return _fixed_getinnerframes(etb, number_of_lines_of_context, tb_offset)\n",
            "  File \"/usr/local/lib/python3.6/dist-packages/IPython/core/ultratb.py\", line 313, in wrapped\n",
            "    return f(*args, **kwargs)\n",
            "  File \"/usr/local/lib/python3.6/dist-packages/IPython/core/ultratb.py\", line 358, in _fixed_getinnerframes\n",
            "    records = fix_frame_records_filenames(inspect.getinnerframes(etb, context))\n",
            "  File \"/usr/lib/python3.6/inspect.py\", line 1490, in getinnerframes\n",
            "    frameinfo = (tb.tb_frame,) + getframeinfo(tb, context)\n",
            "  File \"/usr/lib/python3.6/inspect.py\", line 1452, in getframeinfo\n",
            "    lines, lnum = findsource(frame)\n",
            "  File \"/usr/local/lib/python3.6/dist-packages/IPython/core/ultratb.py\", line 182, in findsource\n",
            "    lines = linecache.getlines(file, globals_dict)\n",
            "  File \"/usr/lib/python3.6/linecache.py\", line 47, in getlines\n",
            "    return updatecache(filename, module_globals)\n",
            "  File \"/usr/lib/python3.6/linecache.py\", line 136, in updatecache\n",
            "    with tokenize.open(fullname) as fp:\n",
            "  File \"/usr/lib/python3.6/tokenize.py\", line 454, in open\n",
            "    encoding, lines = detect_encoding(buffer.readline)\n",
            "  File \"/usr/lib/python3.6/tokenize.py\", line 423, in detect_encoding\n",
            "    first = read_or_stop()\n",
            "  File \"/usr/lib/python3.6/tokenize.py\", line 381, in read_or_stop\n",
            "    return readline()\n",
            "KeyboardInterrupt\n"
          ],
          "name": "stdout"
        },
        {
          "output_type": "error",
          "ename": "KeyboardInterrupt",
          "evalue": "ignored",
          "traceback": [
            "\u001b[0;31m---------------------------------------------------------------------------\u001b[0m"
          ]
        }
      ]
    },
    {
      "cell_type": "markdown",
      "metadata": {
        "id": "-95tn3g9zRE8",
        "colab_type": "text"
      },
      "source": [
        "# **7. Challenging the solution**"
      ]
    },
    {
      "cell_type": "code",
      "metadata": {
        "id": "uHSZeXB-zX_t",
        "colab_type": "code",
        "colab": {}
      },
      "source": [
        ""
      ],
      "execution_count": null,
      "outputs": []
    }
  ]
}